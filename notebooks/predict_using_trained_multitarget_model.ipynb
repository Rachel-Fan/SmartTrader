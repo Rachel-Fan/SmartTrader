{
 "cells": [
  {
   "cell_type": "code",
   "execution_count": 1,
   "metadata": {},
   "outputs": [
    {
     "name": "stderr",
     "output_type": "stream",
     "text": [
      "/Users/rongfan/Documents/GitHub/SmartTrader/venv/lib/python3.9/site-packages/urllib3/__init__.py:35: NotOpenSSLWarning: urllib3 v2 only supports OpenSSL 1.1.1+, currently the 'ssl' module is compiled with 'LibreSSL 2.8.3'. See: https://github.com/urllib3/urllib3/issues/3020\n",
      "  warnings.warn(\n"
     ]
    }
   ],
   "source": [
    "# Import necessary libraries\n",
    "import numpy as np\n",
    "import pandas as pd\n",
    "from tensorflow.keras.models import load_model\n",
    "from sklearn.preprocessing import MinMaxScaler\n",
    "import matplotlib.pyplot as plt\n"
   ]
  },
  {
   "cell_type": "code",
   "execution_count": 63,
   "metadata": {},
   "outputs": [
    {
     "name": "stdout",
     "output_type": "stream",
     "text": [
      "Model loaded successfully.\n",
      "            Adj Close    Close     High      Low     Open     Volume\n",
      "Date                                                                \n",
      "2019-01-02   3.378090  3.40550  3.46200  3.25125  3.26600  508752000\n",
      "2019-01-03   3.173996  3.19975  3.37900  3.19225  3.34475  705552000\n",
      "2019-01-04   3.377346  3.40475  3.44325  3.24250  3.27350  585620000\n",
      "2019-01-07   3.556145  3.58500  3.62225  3.41075  3.46250  709160000\n",
      "2019-01-08   3.467614  3.49575  3.66950  3.42250  3.66725  786016000\n",
      "Data loaded successfully.\n"
     ]
    }
   ],
   "source": [
    "\n",
    "# Load the trained model\n",
    "model_path = 'best_lstm_multitarget3.keras'  # Path to your saved model\n",
    "model = load_model(model_path)\n",
    "print(\"Model loaded successfully.\")\n",
    "\n",
    "# Load the original data for scaling and context\n",
    "data = pd.read_csv(\"../data/NVDA.csv\", skiprows=2, index_col=0)\n",
    "# Convert the index to a datetime type for better handling\n",
    "data.index = pd.to_datetime(data.index)\n",
    "data.columns = ['Adj Close','Close','High','Low','Open','Volume']\n",
    "print(data.head())\n",
    "\n",
    "print(\"Data loaded successfully.\")\n"
   ]
  },
  {
   "cell_type": "code",
   "execution_count": 65,
   "metadata": {},
   "outputs": [
    {
     "name": "stdout",
     "output_type": "stream",
     "text": [
      "Scaled features shape: (1489, 4)\n"
     ]
    }
   ],
   "source": [
    "from sklearn.preprocessing import MinMaxScaler\n",
    "\n",
    "# Extract numeric values\n",
    "features = data[['Open', 'High', 'Low', 'Close']].values\n",
    "\n",
    "# Normalize the features\n",
    "scaler = MinMaxScaler(feature_range=(0, 1))\n",
    "scaled_features = scaler.fit_transform(features)\n",
    "\n",
    "print(f\"Scaled features shape: {scaled_features.shape}\")\n"
   ]
  },
  {
   "cell_type": "code",
   "execution_count": 66,
   "metadata": {},
   "outputs": [],
   "source": [
    "look_back = 60\n",
    "# Check if enough historical data is available\n",
    "if len(data) < look_back:\n",
    "    raise ValueError(\"Not enough historical data to make predictions.\")\n"
   ]
  },
  {
   "cell_type": "code",
   "execution_count": 67,
   "metadata": {},
   "outputs": [],
   "source": [
    "# Use the last `look_back` days from the dataset\n",
    "input_data = scaled_features[-look_back:]\n",
    "input_data = input_data.reshape(1, look_back, input_data.shape[1])  # Reshape to match model input\n"
   ]
  },
  {
   "cell_type": "code",
   "execution_count": 69,
   "metadata": {},
   "outputs": [],
   "source": [
    "def predict_multiple_days(model, scaler, recent_data, target_date, data_index, business_days=5):\n",
    "    \"\"\"\n",
    "    Predict prices for a specific day and subsequent business days.\n",
    "    :param model: Trained LSTM model\n",
    "    :param scaler: MinMaxScaler used for normalization\n",
    "    :param recent_data: Most recent `look_back` days of scaled data with 4 features\n",
    "    :param target_date: The future date to predict (YYYY-MM-DD)\n",
    "    :param data_index: The index of dates in the dataset\n",
    "    :param business_days: Number of business days to predict after the target date\n",
    "    :return: DataFrame with predicted Open, High, Low, Close prices for the specified period\n",
    "    \"\"\"\n",
    "    from datetime import datetime, timedelta\n",
    "    import pandas as pd\n",
    "\n",
    "    # Ensure recent_data has the correct shape\n",
    "    if recent_data.shape[1] != 4:\n",
    "        raise ValueError(f\"Expected 4 features (Open, High, Low, Close), but got {recent_data.shape[1]} features.\")\n",
    "\n",
    "    # Initialize input and predictions\n",
    "    current_input = recent_data.reshape(1, recent_data.shape[0], recent_data.shape[1])  # (1, look_back, 4)\n",
    "    predictions = []\n",
    "    dates = []\n",
    "\n",
    "    # Start with the target date\n",
    "    predicted_date = datetime.strptime(target_date, \"%Y-%m-%d\")\n",
    "\n",
    "    # Predict for the target date and subsequent business days\n",
    "    for step in range(business_days):\n",
    "        print(f\"Predicting day {step + 1}\")\n",
    "        prediction = model.predict(current_input)\n",
    "\n",
    "        # Denormalize the prediction\n",
    "        denormalized_prediction = scaler.inverse_transform(prediction)\n",
    "        predictions.append(denormalized_prediction[0])\n",
    "        dates.append(predicted_date)\n",
    "\n",
    "        # Update the sliding window\n",
    "        new_input_row = np.vstack([current_input[0, 1:], prediction])  # Slide the input window\n",
    "        current_input = new_input_row.reshape(1, current_input.shape[1], current_input.shape[2])\n",
    "\n",
    "        # Move to the next business day\n",
    "        predicted_date += timedelta(days=1)\n",
    "        while predicted_date.weekday() >= 5:  # Skip weekends (5=Saturday, 6=Sunday)\n",
    "            predicted_date += timedelta(days=1)\n",
    "\n",
    "    # Create DataFrame for predictions\n",
    "    df_predictions = pd.DataFrame(predictions, columns=['Open', 'High', 'Low', 'Close'])\n",
    "    df_predictions['Date'] = dates\n",
    "    df_predictions.set_index('Date', inplace=True)\n",
    "\n",
    "    return df_predictions\n"
   ]
  },
  {
   "cell_type": "code",
   "execution_count": 71,
   "metadata": {},
   "outputs": [
    {
     "name": "stdout",
     "output_type": "stream",
     "text": [
      "Predicting day 1\n",
      "\u001b[1m1/1\u001b[0m \u001b[32m━━━━━━━━━━━━━━━━━━━━\u001b[0m\u001b[37m\u001b[0m \u001b[1m0s\u001b[0m 75ms/step\n",
      "Predicting day 2\n",
      "\u001b[1m1/1\u001b[0m \u001b[32m━━━━━━━━━━━━━━━━━━━━\u001b[0m\u001b[37m\u001b[0m \u001b[1m0s\u001b[0m 16ms/step\n",
      "Predicting day 3\n",
      "\u001b[1m1/1\u001b[0m \u001b[32m━━━━━━━━━━━━━━━━━━━━\u001b[0m\u001b[37m\u001b[0m \u001b[1m0s\u001b[0m 18ms/step\n",
      "Predicting day 4\n",
      "\u001b[1m1/1\u001b[0m \u001b[32m━━━━━━━━━━━━━━━━━━━━\u001b[0m\u001b[37m\u001b[0m \u001b[1m0s\u001b[0m 14ms/step\n",
      "Predicting day 5\n",
      "\u001b[1m1/1\u001b[0m \u001b[32m━━━━━━━━━━━━━━━━━━━━\u001b[0m\u001b[37m\u001b[0m \u001b[1m0s\u001b[0m 15ms/step\n",
      "                  Open        High         Low       Close\n",
      "Date                                                      \n",
      "2024-12-27  131.705338  131.267105  124.192284  127.582771\n",
      "2024-12-30  130.009354  129.427811  122.657562  125.858253\n",
      "2024-12-31  128.228287  127.452454  120.999397  124.004692\n",
      "2025-01-01  126.422401  125.458443  119.307053  122.152451\n",
      "2025-01-02  124.567139  123.512878  117.583298  120.200470\n"
     ]
    }
   ],
   "source": [
    "future_date = \"2024-12-27\"  # Starting from this date\n",
    "\n",
    "# Ensure recent_data includes the last 60 days with 4 features\n",
    "recent_data = scaled_features[-look_back:, :4]\n",
    "\n",
    "# Predict for the specific day and the next 4 business days\n",
    "predicted_df = predict_multiple_days(\n",
    "    model=model,\n",
    "    scaler=scaler,\n",
    "    recent_data=recent_data,\n",
    "    target_date=future_date,\n",
    "    data_index=data.index,\n",
    "    business_days=5\n",
    ")\n",
    "\n",
    "# Display the predictions\n",
    "print(predicted_df)\n"
   ]
  }
 ],
 "metadata": {
  "kernelspec": {
   "display_name": "venv",
   "language": "python",
   "name": "python3"
  },
  "language_info": {
   "codemirror_mode": {
    "name": "ipython",
    "version": 3
   },
   "file_extension": ".py",
   "mimetype": "text/x-python",
   "name": "python",
   "nbconvert_exporter": "python",
   "pygments_lexer": "ipython3",
   "version": "3.9.6"
  }
 },
 "nbformat": 4,
 "nbformat_minor": 2
}
