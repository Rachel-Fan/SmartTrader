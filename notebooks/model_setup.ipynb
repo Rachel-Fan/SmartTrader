{
 "cells": [
  {
   "cell_type": "markdown",
   "metadata": {},
   "source": [
    "1. Data Download"
   ]
  },
  {
   "cell_type": "code",
   "execution_count": 3,
   "metadata": {},
   "outputs": [
    {
     "name": "stderr",
     "output_type": "stream",
     "text": [
      "/Users/rongfan/Documents/GitHub/SmartTrader/venv/lib/python3.9/site-packages/urllib3/__init__.py:35: NotOpenSSLWarning: urllib3 v2 only supports OpenSSL 1.1.1+, currently the 'ssl' module is compiled with 'LibreSSL 2.8.3'. See: https://github.com/urllib3/urllib3/issues/3020\n",
      "  warnings.warn(\n",
      "[*********************100%***********************]  1 of 1 completed\n",
      "[*********************100%***********************]  1 of 1 completed\n"
     ]
    }
   ],
   "source": [
    "import yfinance as yf\n",
    "\n",
    "def download_stock_data(ticker, start_date, end_date):\n",
    "    data = yf.download(ticker, start=start_date, end=end_date)\n",
    "    data.to_csv(f\"../data/{ticker}.csv\")\n",
    "    return data\n",
    "\n",
    "# Download NVDA and NVDQ data\n",
    "nvda_data = download_stock_data(\"NVDA\", \"2020-01-01\", \"2024-11-26\")\n",
    "nvdq_data = download_stock_data(\"NVDQ\", \"2023-10-19\", \"2024-11-26\")\n"
   ]
  },
  {
   "cell_type": "code",
   "execution_count": 45,
   "metadata": {},
   "outputs": [
    {
     "name": "stderr",
     "output_type": "stream",
     "text": [
      "[*********************100%***********************]  1 of 1 completed"
     ]
    },
    {
     "name": "stdout",
     "output_type": "stream",
     "text": [
      "Price        Adj Close       Close        High         Low        Open  \\\n",
      "Ticker            NVDA        NVDA        NVDA        NVDA        NVDA   \n",
      "Date                                                                     \n",
      "2023-12-04   45.496231   45.509998   46.077000   45.009998   46.077000   \n",
      "2023-12-05   46.556007   46.566002   46.599998   45.271000   45.466000   \n",
      "2023-12-06   45.493237   45.502998   47.387001   45.411999   47.215000   \n",
      "2023-12-07   46.586002   46.596001   46.629002   45.604000   45.700001   \n",
      "2023-12-08   47.495808   47.506001   47.741001   46.549999   46.595001   \n",
      "...                ...         ...         ...         ...         ...   \n",
      "2024-11-26  136.919998  136.919998  139.300003  135.669998  137.699997   \n",
      "2024-11-27  135.339996  135.339996  137.220001  131.800003  135.009995   \n",
      "2024-11-29  138.250000  138.250000  139.350006  136.050003  136.779999   \n",
      "2024-12-02  138.630005  138.630005  140.449997  137.820007  138.830002   \n",
      "2024-12-03  140.259995  140.259995  140.539993  137.949997  138.259995   \n",
      "\n",
      "Price          Volume  \n",
      "Ticker           NVDA  \n",
      "Date                   \n",
      "2023-12-04  437543000  \n",
      "2023-12-05  371718000  \n",
      "2023-12-06  380590000  \n",
      "2023-12-07  350823000  \n",
      "2023-12-08  359224000  \n",
      "...               ...  \n",
      "2024-11-26  190287700  \n",
      "2024-11-27  226370900  \n",
      "2024-11-29  141863200  \n",
      "2024-12-02  171682800  \n",
      "2024-12-03  164414000  \n",
      "\n",
      "[252 rows x 6 columns]\n"
     ]
    },
    {
     "name": "stderr",
     "output_type": "stream",
     "text": [
      "\n"
     ]
    }
   ],
   "source": [
    "import yfinance as yf\n",
    "from datetime import datetime\n",
    "\n",
    "end = datetime.now()\n",
    "start = datetime(end.year - 1, end.month, end.day)\n",
    "\n",
    "# Try downloading NVDA data\n",
    "nvda_data = yf.download(\"NVDA\", start=start, end=end)\n",
    "print(nvda_data)\n"
   ]
  },
  {
   "cell_type": "code",
   "execution_count": 50,
   "metadata": {},
   "outputs": [
    {
     "name": "stderr",
     "output_type": "stream",
     "text": [
      "[*********************100%***********************]  1 of 1 completed"
     ]
    },
    {
     "name": "stdout",
     "output_type": "stream",
     "text": [
      "Price       Adj Close      Close       High        Low       Open    Volume\n",
      "Ticker           NVDQ       NVDQ       NVDQ       NVDQ       NVDQ      NVDQ\n",
      "Date                                                                       \n",
      "2023-12-04  67.129745  74.730003  76.110001  73.230003  73.230003     10933\n",
      "2023-12-05  64.133026  71.393997  74.430000  71.279999  74.400002      9367\n",
      "2023-12-06  67.183640  74.790001  74.790001  68.760002  69.264000      7467\n",
      "2023-12-07  63.734180  70.949997  74.610001  70.949997  74.610001      8233\n",
      "2023-12-08  61.257576  68.193001  68.910004  67.650002  68.849998      4800\n",
      "...               ...        ...        ...        ...        ...       ...\n",
      "2024-11-26   3.440000   3.440000   3.500000   3.320000   3.400000  34899600\n",
      "2024-11-27   3.520000   3.520000   3.690000   3.520000   3.535000  35882200\n",
      "2024-11-29   3.365000   3.365000   3.482000   3.310000   3.440000  21203000\n",
      "2024-12-02   3.355000   3.355000   3.390000   3.260000   3.350000  39320800\n",
      "2024-12-03   3.275000   3.275000   3.380000   3.260000   3.370000  36882000\n",
      "\n",
      "[252 rows x 6 columns]\n"
     ]
    },
    {
     "name": "stderr",
     "output_type": "stream",
     "text": [
      "\n"
     ]
    }
   ],
   "source": [
    "import yfinance as yf\n",
    "from datetime import datetime\n",
    "\n",
    "end = datetime.now()\n",
    "start = datetime(end.year - 1, end.month, end.day)\n",
    "\n",
    "# Try downloading NVDA data\n",
    "nvda_data = yf.download(\"NVDQ\", start=start, end=end)\n",
    "print(nvda_data)\n"
   ]
  },
  {
   "cell_type": "code",
   "execution_count": 51,
   "metadata": {},
   "outputs": [
    {
     "name": "stderr",
     "output_type": "stream",
     "text": [
      "[*********************100%***********************]  1 of 1 completed\n",
      "[*********************100%***********************]  1 of 1 completed"
     ]
    },
    {
     "name": "stdout",
     "output_type": "stream",
     "text": [
      "Fetching data for: NVDA\n",
      "Data fetched successfully for NVDA: 252 rows\n",
      "Fetching data for: NVDQ\n",
      "Data fetched successfully for NVDQ: 252 rows\n",
      "Final DataFrame shape: (504, 15)\n",
      "Price        Date Adj Close Close High  Low Open Volume company_name Ticker  \\\n",
      "Ticker                 NVDA  NVDA NVDA NVDA NVDA   NVDA                       \n",
      "494    2024-11-19       NaN   NaN  NaN  NaN  NaN    NaN         NVDQ   NVDQ   \n",
      "495    2024-11-20       NaN   NaN  NaN  NaN  NaN    NaN         NVDQ   NVDQ   \n",
      "496    2024-11-21       NaN   NaN  NaN  NaN  NaN    NaN         NVDQ   NVDQ   \n",
      "497    2024-11-22       NaN   NaN  NaN  NaN  NaN    NaN         NVDQ   NVDQ   \n",
      "498    2024-11-25       NaN   NaN  NaN  NaN  NaN    NaN         NVDQ   NVDQ   \n",
      "499    2024-11-26       NaN   NaN  NaN  NaN  NaN    NaN         NVDQ   NVDQ   \n",
      "500    2024-11-27       NaN   NaN  NaN  NaN  NaN    NaN         NVDQ   NVDQ   \n",
      "501    2024-11-29       NaN   NaN  NaN  NaN  NaN    NaN         NVDQ   NVDQ   \n",
      "502    2024-12-02       NaN   NaN  NaN  NaN  NaN    NaN         NVDQ   NVDQ   \n",
      "503    2024-12-03       NaN   NaN  NaN  NaN  NaN    NaN         NVDQ   NVDQ   \n",
      "\n",
      "Price  Adj Close  Close   High    Low   Open      Volume  \n",
      "Ticker      NVDQ   NVDQ   NVDQ   NVDQ   NVDQ        NVDQ  \n",
      "494        3.015  3.015  3.290  3.000  3.280  42710700.0  \n",
      "495        3.060  3.060  3.180  2.992  3.000  48948800.0  \n",
      "496        3.020  3.020  3.270  2.760  2.910  77934500.0  \n",
      "497        3.215  3.215  3.250  3.000  3.050  56768000.0  \n",
      "498        3.485  3.485  3.490  3.215  3.215  50346000.0  \n",
      "499        3.440  3.440  3.500  3.320  3.400  34899600.0  \n",
      "500        3.520  3.520  3.690  3.520  3.535  35882200.0  \n",
      "501        3.365  3.365  3.482  3.310  3.440  21203000.0  \n",
      "502        3.355  3.355  3.390  3.260  3.350  39320800.0  \n",
      "503        3.275  3.275  3.380  3.260  3.370  36882000.0  \n"
     ]
    },
    {
     "name": "stderr",
     "output_type": "stream",
     "text": [
      "\n"
     ]
    }
   ],
   "source": [
    "import pandas as pd\n",
    "from datetime import datetime\n",
    "import yfinance as yf\n",
    "\n",
    "# Define stock list and date range\n",
    "tech_list = ['NVDA', 'NVDQ']\n",
    "end = datetime.now()\n",
    "start = datetime(end.year - 1, end.month, end.day)\n",
    "\n",
    "# Initialize list to store data\n",
    "company_list = []\n",
    "\n",
    "# Fetch data for each stock\n",
    "for stock in tech_list:\n",
    "    print(f\"Fetching data for: {stock}\")\n",
    "    try:\n",
    "        # Download stock data\n",
    "        data = yf.download(stock, start=start, end=end)\n",
    "        \n",
    "        # If data is empty, log and skip\n",
    "        if data.empty:\n",
    "            print(f\"No data found for {stock}, skipping.\")\n",
    "            continue\n",
    "\n",
    "        # Add metadata columns\n",
    "        data[\"company_name\"] = stock\n",
    "        data[\"Ticker\"] = stock\n",
    "\n",
    "        # Append the data to the list\n",
    "        company_list.append(data)\n",
    "        print(f\"Data fetched successfully for {stock}: {data.shape[0]} rows\")\n",
    "    except Exception as e:\n",
    "        print(f\"Error fetching data for {stock}: {e}\")\n",
    "\n",
    "# Check if we have any data\n",
    "if not company_list:\n",
    "    print(\"No data was fetched. Exiting.\")\n",
    "else:\n",
    "    # Concatenate all DataFrames\n",
    "    try:\n",
    "        df = pd.concat(company_list, axis=0)\n",
    "        df.reset_index(inplace=True)  # Reset index for final DataFrame\n",
    "        print(\"Final DataFrame shape:\", df.shape)\n",
    "        print(df.tail(10))  # Display the last 10 rows\n",
    "    except Exception as e:\n",
    "        print(\"Error concatenating DataFrames:\", e)\n"
   ]
  },
  {
   "cell_type": "code",
   "execution_count": 46,
   "metadata": {},
   "outputs": [
    {
     "name": "stderr",
     "output_type": "stream",
     "text": [
      "[*********************100%***********************]  1 of 1 completed\n",
      "[*********************100%***********************]  1 of 1 completed"
     ]
    },
    {
     "name": "stdout",
     "output_type": "stream",
     "text": [
      "Fetching data for: NVDA\n",
      "Fetching data for: NVDQ\n"
     ]
    },
    {
     "name": "stderr",
     "output_type": "stream",
     "text": [
      "\n"
     ]
    }
   ],
   "source": [
    "tech_list = ['NVDA', 'NVDQ']\n",
    "company_list = []\n",
    "\n",
    "for stock in tech_list:\n",
    "    print(f\"Fetching data for: {stock}\")\n",
    "    try:\n",
    "        data = yf.download(stock, start=start, end=end)\n",
    "        if data.empty:\n",
    "            print(f\"No data found for: {stock}\")\n",
    "            continue\n",
    "        data[\"company_name\"] = stock\n",
    "        data[\"Ticker\"] = stock\n",
    "        company_list.append(data)\n",
    "    except Exception as e:\n",
    "        print(f\"Error fetching data for {stock}: {e}\")\n"
   ]
  },
  {
   "cell_type": "code",
   "execution_count": 47,
   "metadata": {},
   "outputs": [
    {
     "name": "stderr",
     "output_type": "stream",
     "text": [
      "[*********************100%***********************]  1 of 1 completed\n",
      "[*********************100%***********************]  1 of 1 completed"
     ]
    },
    {
     "name": "stdout",
     "output_type": "stream",
     "text": [
      "Fetching data for: NVDA\n",
      "Fetching data for: NVDQ\n"
     ]
    },
    {
     "name": "stderr",
     "output_type": "stream",
     "text": [
      "\n"
     ]
    }
   ],
   "source": [
    "for stock in tech_list:\n",
    "    print(f\"Fetching data for: {stock}\")\n",
    "    try:\n",
    "        data = yf.download(stock, start=start, end=end)\n",
    "        if data.empty:\n",
    "            print(f\"No data found for: {stock}\")\n",
    "            # Create a placeholder DataFrame for missing stock\n",
    "            data = pd.DataFrame(columns=[\"Open\", \"High\", \"Low\", \"Close\", \"Adj Close\", \"Volume\"])\n",
    "            data[\"company_name\"] = stock\n",
    "            data[\"Ticker\"] = stock\n",
    "        else:\n",
    "            data[\"company_name\"] = stock\n",
    "            data[\"Ticker\"] = stock\n",
    "        company_list.append(data)\n",
    "    except Exception as e:\n",
    "        print(f\"Error fetching data for {stock}: {e}\")\n"
   ]
  },
  {
   "cell_type": "code",
   "execution_count": 57,
   "metadata": {},
   "outputs": [
    {
     "ename": "InvalidIndexError",
     "evalue": "Reindexing only valid with uniquely valued Index objects",
     "output_type": "error",
     "traceback": [
      "\u001b[0;31m---------------------------------------------------------------------------\u001b[0m",
      "\u001b[0;31mInvalidIndexError\u001b[0m                         Traceback (most recent call last)",
      "Cell \u001b[0;32mIn[57], line 1\u001b[0m\n\u001b[0;32m----> 1\u001b[0m df \u001b[38;5;241m=\u001b[39m \u001b[43mpd\u001b[49m\u001b[38;5;241;43m.\u001b[39;49m\u001b[43mconcat\u001b[49m\u001b[43m(\u001b[49m\u001b[43mcompany_list\u001b[49m\u001b[43m,\u001b[49m\u001b[43m \u001b[49m\u001b[43maxis\u001b[49m\u001b[38;5;241;43m=\u001b[39;49m\u001b[38;5;241;43m0\u001b[39;49m\u001b[43m)\u001b[49m\n\u001b[1;32m      2\u001b[0m df\u001b[38;5;241m.\u001b[39mreset_index(inplace\u001b[38;5;241m=\u001b[39m\u001b[38;5;28;01mTrue\u001b[39;00m)\n\u001b[1;32m      4\u001b[0m \u001b[38;5;66;03m# Display the combined DataFrame\u001b[39;00m\n",
      "File \u001b[0;32m~/Documents/GitHub/SmartTrader/venv/lib/python3.9/site-packages/pandas/core/reshape/concat.py:395\u001b[0m, in \u001b[0;36mconcat\u001b[0;34m(objs, axis, join, ignore_index, keys, levels, names, verify_integrity, sort, copy)\u001b[0m\n\u001b[1;32m    380\u001b[0m     copy \u001b[38;5;241m=\u001b[39m \u001b[38;5;28;01mFalse\u001b[39;00m\n\u001b[1;32m    382\u001b[0m op \u001b[38;5;241m=\u001b[39m _Concatenator(\n\u001b[1;32m    383\u001b[0m     objs,\n\u001b[1;32m    384\u001b[0m     axis\u001b[38;5;241m=\u001b[39maxis,\n\u001b[0;32m   (...)\u001b[0m\n\u001b[1;32m    392\u001b[0m     sort\u001b[38;5;241m=\u001b[39msort,\n\u001b[1;32m    393\u001b[0m )\n\u001b[0;32m--> 395\u001b[0m \u001b[38;5;28;01mreturn\u001b[39;00m \u001b[43mop\u001b[49m\u001b[38;5;241;43m.\u001b[39;49m\u001b[43mget_result\u001b[49m\u001b[43m(\u001b[49m\u001b[43m)\u001b[49m\n",
      "File \u001b[0;32m~/Documents/GitHub/SmartTrader/venv/lib/python3.9/site-packages/pandas/core/reshape/concat.py:680\u001b[0m, in \u001b[0;36m_Concatenator.get_result\u001b[0;34m(self)\u001b[0m\n\u001b[1;32m    678\u001b[0m         obj_labels \u001b[38;5;241m=\u001b[39m obj\u001b[38;5;241m.\u001b[39maxes[\u001b[38;5;241m1\u001b[39m \u001b[38;5;241m-\u001b[39m ax]\n\u001b[1;32m    679\u001b[0m         \u001b[38;5;28;01mif\u001b[39;00m \u001b[38;5;129;01mnot\u001b[39;00m new_labels\u001b[38;5;241m.\u001b[39mequals(obj_labels):\n\u001b[0;32m--> 680\u001b[0m             indexers[ax] \u001b[38;5;241m=\u001b[39m \u001b[43mobj_labels\u001b[49m\u001b[38;5;241;43m.\u001b[39;49m\u001b[43mget_indexer\u001b[49m\u001b[43m(\u001b[49m\u001b[43mnew_labels\u001b[49m\u001b[43m)\u001b[49m\n\u001b[1;32m    682\u001b[0m     mgrs_indexers\u001b[38;5;241m.\u001b[39mappend((obj\u001b[38;5;241m.\u001b[39m_mgr, indexers))\n\u001b[1;32m    684\u001b[0m new_data \u001b[38;5;241m=\u001b[39m concatenate_managers(\n\u001b[1;32m    685\u001b[0m     mgrs_indexers, \u001b[38;5;28mself\u001b[39m\u001b[38;5;241m.\u001b[39mnew_axes, concat_axis\u001b[38;5;241m=\u001b[39m\u001b[38;5;28mself\u001b[39m\u001b[38;5;241m.\u001b[39mbm_axis, copy\u001b[38;5;241m=\u001b[39m\u001b[38;5;28mself\u001b[39m\u001b[38;5;241m.\u001b[39mcopy\n\u001b[1;32m    686\u001b[0m )\n",
      "File \u001b[0;32m~/Documents/GitHub/SmartTrader/venv/lib/python3.9/site-packages/pandas/core/indexes/base.py:3885\u001b[0m, in \u001b[0;36mIndex.get_indexer\u001b[0;34m(self, target, method, limit, tolerance)\u001b[0m\n\u001b[1;32m   3882\u001b[0m \u001b[38;5;28mself\u001b[39m\u001b[38;5;241m.\u001b[39m_check_indexing_method(method, limit, tolerance)\n\u001b[1;32m   3884\u001b[0m \u001b[38;5;28;01mif\u001b[39;00m \u001b[38;5;129;01mnot\u001b[39;00m \u001b[38;5;28mself\u001b[39m\u001b[38;5;241m.\u001b[39m_index_as_unique:\n\u001b[0;32m-> 3885\u001b[0m     \u001b[38;5;28;01mraise\u001b[39;00m InvalidIndexError(\u001b[38;5;28mself\u001b[39m\u001b[38;5;241m.\u001b[39m_requires_unique_msg)\n\u001b[1;32m   3887\u001b[0m \u001b[38;5;28;01mif\u001b[39;00m \u001b[38;5;28mlen\u001b[39m(target) \u001b[38;5;241m==\u001b[39m \u001b[38;5;241m0\u001b[39m:\n\u001b[1;32m   3888\u001b[0m     \u001b[38;5;28;01mreturn\u001b[39;00m np\u001b[38;5;241m.\u001b[39marray([], dtype\u001b[38;5;241m=\u001b[39mnp\u001b[38;5;241m.\u001b[39mintp)\n",
      "\u001b[0;31mInvalidIndexError\u001b[0m: Reindexing only valid with uniquely valued Index objects"
     ]
    }
   ],
   "source": [
    "df = pd.concat(company_list, axis=0)\n",
    "df.reset_index(inplace=True)\n",
    "\n",
    "# Display the combined DataFrame\n",
    "print(df.tail(10))\n"
   ]
  },
  {
   "cell_type": "code",
   "execution_count": 44,
   "metadata": {},
   "outputs": [
    {
     "name": "stderr",
     "output_type": "stream",
     "text": [
      "[*********************100%***********************]  1 of 1 completed\n",
      "[*********************100%***********************]  1 of 1 completed"
     ]
    },
    {
     "name": "stdout",
     "output_type": "stream",
     "text": [
      "Price        Date Adj Close Close High  Low Open Volume company_name Ticker  \\\n",
      "Ticker                 NVDA  NVDA NVDA NVDA NVDA   NVDA                       \n",
      "494    2024-11-19       NaN   NaN  NaN  NaN  NaN    NaN         NVDQ   NVDQ   \n",
      "495    2024-11-20       NaN   NaN  NaN  NaN  NaN    NaN         NVDQ   NVDQ   \n",
      "496    2024-11-21       NaN   NaN  NaN  NaN  NaN    NaN         NVDQ   NVDQ   \n",
      "497    2024-11-22       NaN   NaN  NaN  NaN  NaN    NaN         NVDQ   NVDQ   \n",
      "498    2024-11-25       NaN   NaN  NaN  NaN  NaN    NaN         NVDQ   NVDQ   \n",
      "499    2024-11-26       NaN   NaN  NaN  NaN  NaN    NaN         NVDQ   NVDQ   \n",
      "500    2024-11-27       NaN   NaN  NaN  NaN  NaN    NaN         NVDQ   NVDQ   \n",
      "501    2024-11-29       NaN   NaN  NaN  NaN  NaN    NaN         NVDQ   NVDQ   \n",
      "502    2024-12-02       NaN   NaN  NaN  NaN  NaN    NaN         NVDQ   NVDQ   \n",
      "503    2024-12-03       NaN   NaN  NaN  NaN  NaN    NaN         NVDQ   NVDQ   \n",
      "\n",
      "Price  Adj Close  Close   High    Low   Open      Volume  \n",
      "Ticker      NVDQ   NVDQ   NVDQ   NVDQ   NVDQ        NVDQ  \n",
      "494        3.015  3.015  3.290  3.000  3.280  42710700.0  \n",
      "495        3.060  3.060  3.180  2.992  3.000  48948800.0  \n",
      "496        3.020  3.020  3.270  2.760  2.910  77934500.0  \n",
      "497        3.215  3.215  3.250  3.000  3.050  56768000.0  \n",
      "498        3.485  3.485  3.490  3.215  3.215  50346000.0  \n",
      "499        3.440  3.440  3.500  3.320  3.400  34899600.0  \n",
      "500        3.520  3.520  3.690  3.520  3.535  35882200.0  \n",
      "501        3.365  3.365  3.482  3.310  3.440  21203000.0  \n",
      "502        3.355  3.355  3.390  3.260  3.350  39320800.0  \n",
      "503        3.275  3.275  3.380  3.260  3.370  36882000.0  \n"
     ]
    },
    {
     "name": "stderr",
     "output_type": "stream",
     "text": [
      "\n"
     ]
    }
   ],
   "source": [
    "import pandas as pd\n",
    "from datetime import datetime\n",
    "import yfinance as yf\n",
    "\n",
    "# Define tech stocks and date range\n",
    "tech_list = ['NVDA', 'NVDQ']\n",
    "end = datetime.now()\n",
    "start = datetime(end.year - 1, end.month, end.day)\n",
    "\n",
    "# Initialize list for concatenation\n",
    "company_list = []\n",
    "\n",
    "# Download data for each stock and append with company name\n",
    "for stock in tech_list:\n",
    "    data = yf.download(stock, start=start, end=end)\n",
    "    data[\"company_name\"] = stock  # Add company name\n",
    "    data[\"Ticker\"] = stock        # Add ticker symbol for clarity\n",
    "    company_list.append(data)\n",
    "\n",
    "# Concatenate all dataframes into one\n",
    "df = pd.concat(company_list, axis=0)\n",
    "\n",
    "# Reset index to organize the final dataframe\n",
    "df.reset_index(inplace=True)\n",
    "\n",
    "# Display the last 10 rows of the combined dataframe\n",
    "print(df.tail(10))\n"
   ]
  },
  {
   "cell_type": "code",
   "execution_count": 43,
   "metadata": {},
   "outputs": [
    {
     "data": {
      "image/png": "[encoded data removed]",
      "text/plain": [
       "<Figure size 1500x1000 with 1 Axes>"
      ]
     },
     "metadata": {},
     "output_type": "display_data"
    },
    {
     "data": {
      "image/png": "[encoded data removed]",
      "text/plain": [
       "<Figure size 640x480 with 2 Axes>"
      ]
     },
     "metadata": {},
     "output_type": "display_data"
    },
    {
     "data": {
      "image/png": "[encoded data removed]",
      "text/plain": [
       "<Figure size 640x480 with 1 Axes>"
      ]
     },
     "metadata": {},
     "output_type": "display_data"
    }
   ],
   "source": [
    "# Let's see a historical view of the closing price\n",
    "plt.figure(figsize=(15, 10))\n",
    "plt.subplots_adjust(top=1.25, bottom=1.2)\n",
    "\n",
    "for i, company in enumerate(company_list, 1):\n",
    "    plt.subplot(2, 2, i)\n",
    "    company['Adj Close'].plot()\n",
    "    plt.ylabel('Adj Close')\n",
    "    plt.xlabel(None)\n",
    "    plt.title(f\"Closing Price of {tech_list[i - 1]}\")\n",
    "    \n",
    "plt.tight_layout()"
   ]
  },
  {
   "cell_type": "markdown",
   "metadata": {},
   "source": [
    "2. Data Exploration"
   ]
  },
  {
   "cell_type": "code",
   "execution_count": 78,
   "metadata": {},
   "outputs": [
    {
     "name": "stdout",
     "output_type": "stream",
     "text": [
      "        Price          Adj Close               Close                High  \\\n",
      "0      Ticker               NVDA                NVDA                NVDA   \n",
      "1        Date                NaN                 NaN                 NaN   \n",
      "2  2020-01-02  5.973121643066406  5.9977498054504395  5.9977498054504395   \n",
      "3  2020-01-03  5.877516746520996   5.901750087738037  5.9457502365112305   \n",
      "4  2020-01-06   5.90216588973999   5.926499843597412  5.9317498207092285   \n",
      "\n",
      "                 Low               Open     Volume  \n",
      "0               NVDA               NVDA       NVDA  \n",
      "1                NaN                NaN        NaN  \n",
      "2  5.918000221252441            5.96875  237536000  \n",
      "3  5.852499961853027  5.877500057220459  205384000  \n",
      "4  5.781750202178955  5.808000087738037  262636000  \n"
     ]
    }
   ],
   "source": [
    "import pandas as pd\n",
    "import os\n",
    "from sklearn.preprocessing import MinMaxScaler\n",
    "\n",
    "# Define the file path\n",
    "file_path = \"../data/NVDA.csv\"\n",
    "\n",
    "# Check if the file exists\n",
    "if not os.path.exists(file_path):\n",
    "    raise FileNotFoundError(f\"File not found: {file_path}\")\n",
    "\n",
    "# Load the file\n",
    "try:\n",
    "    nvda = pd.read_csv(file_path, parse_dates=True)\n",
    "    print(nvda.head())\n",
    "except ValueError as e:\n",
    "    print(f\"Error reading the file: {e}\")\n",
    "    print(\"Inspect the column names in the file.\")\n"
   ]
  },
  {
   "cell_type": "code",
   "execution_count": 84,
   "metadata": {},
   "outputs": [
    {
     "name": "stdout",
     "output_type": "stream",
     "text": [
      "         Date  Adj Close    Close     High      Low     Open       Volume\n",
      "1  2020-01-02   5.973122  5.99775  5.99775  5.91800  5.96875  237536000.0\n",
      "2  2020-01-03   5.877517  5.90175  5.94575  5.85250  5.87750  205384000.0\n",
      "3  2020-01-06   5.902166  5.92650  5.93175  5.78175  5.80800  262636000.0\n",
      "4  2020-01-07   5.973620  5.99825  6.04425  5.90975  5.95500  314856000.0\n",
      "5  2020-01-08   5.984823  6.00950  6.05100  5.95375  5.99400  277108000.0\n"
     ]
    },
    {
     "name": "stderr",
     "output_type": "stream",
     "text": [
      "/var/folders/94/zgrbt5954ys378xq4p1c7lm00000gn/T/ipykernel_3425/2031686047.py:18: UserWarning: Could not infer format, so each element will be parsed individually, falling back to `dateutil`. To ensure parsing is consistent and as-expected, please specify a format.\n",
      "  nvda = pd.read_csv(file_path, skiprows=2, names=columns, parse_dates=[\"Date\"])\n"
     ]
    }
   ],
   "source": [
    "import pandas as pd\n",
    "import os\n",
    "from sklearn.preprocessing import MinMaxScaler\n",
    "\n",
    "# Define the file path\n",
    "file_path = \"../data/NVDA.csv\"\n",
    "\n",
    "# Check if the file exists\n",
    "if not os.path.exists(file_path):\n",
    "    raise FileNotFoundError(f\"File not found: {file_path}\")\n",
    "\n",
    "# Load the file\n",
    "try:\n",
    "    # Define column names\n",
    "    columns = [\"Date\", \"Adj Close\", \"Close\", \"High\", \"Low\", \"Open\", \"Volume\"]\n",
    "    \n",
    "    # Load data, skipping the first two rows\n",
    "    nvda = pd.read_csv(file_path, skiprows=2, names=columns, parse_dates=[\"Date\"])\n",
    "    \n",
    "    # Convert numeric columns\n",
    "    numeric_columns = [\"Adj Close\", \"Close\", \"High\", \"Low\", \"Open\", \"Volume\"]\n",
    "    nvda[numeric_columns] = nvda[numeric_columns].apply(pd.to_numeric, errors=\"coerce\")\n",
    "    \n",
    "    # Drop invalid rows\n",
    "    nvda = nvda.dropna()\n",
    "\n",
    "    print(nvda.head())\n",
    "\n",
    "except ValueError as e:\n",
    "    print(f\"Error reading the file: {e}\")\n",
    "    print(\"Inspect the column names in the file.\")\n"
   ]
  },
  {
   "cell_type": "code",
   "execution_count": 85,
   "metadata": {},
   "outputs": [
    {
     "ename": "FileNotFoundError",
     "evalue": "[Errno 2] No such file or directory: 'models/scaler.pkl'",
     "output_type": "error",
     "traceback": [
      "\u001b[0;31m---------------------------------------------------------------------------\u001b[0m",
      "\u001b[0;31mFileNotFoundError\u001b[0m                         Traceback (most recent call last)",
      "Cell \u001b[0;32mIn[85], line 4\u001b[0m\n\u001b[1;32m      1\u001b[0m \u001b[38;5;28;01mimport\u001b[39;00m \u001b[38;5;21;01mjoblib\u001b[39;00m\n\u001b[1;32m      3\u001b[0m \u001b[38;5;66;03m# Save the scaler\u001b[39;00m\n\u001b[0;32m----> 4\u001b[0m \u001b[43mjoblib\u001b[49m\u001b[38;5;241;43m.\u001b[39;49m\u001b[43mdump\u001b[49m\u001b[43m(\u001b[49m\u001b[43mscaler\u001b[49m\u001b[43m,\u001b[49m\u001b[43m \u001b[49m\u001b[38;5;124;43m\"\u001b[39;49m\u001b[38;5;124;43mmodels/scaler.pkl\u001b[39;49m\u001b[38;5;124;43m\"\u001b[39;49m\u001b[43m)\u001b[49m\n",
      "File \u001b[0;32m~/Documents/GitHub/SmartTrader/venv/lib/python3.9/site-packages/joblib/numpy_pickle.py:552\u001b[0m, in \u001b[0;36mdump\u001b[0;34m(value, filename, compress, protocol, cache_size)\u001b[0m\n\u001b[1;32m    550\u001b[0m         NumpyPickler(f, protocol\u001b[38;5;241m=\u001b[39mprotocol)\u001b[38;5;241m.\u001b[39mdump(value)\n\u001b[1;32m    551\u001b[0m \u001b[38;5;28;01melif\u001b[39;00m is_filename:\n\u001b[0;32m--> 552\u001b[0m     \u001b[38;5;28;01mwith\u001b[39;00m \u001b[38;5;28;43mopen\u001b[39;49m\u001b[43m(\u001b[49m\u001b[43mfilename\u001b[49m\u001b[43m,\u001b[49m\u001b[43m \u001b[49m\u001b[38;5;124;43m'\u001b[39;49m\u001b[38;5;124;43mwb\u001b[39;49m\u001b[38;5;124;43m'\u001b[39;49m\u001b[43m)\u001b[49m \u001b[38;5;28;01mas\u001b[39;00m f:\n\u001b[1;32m    553\u001b[0m         NumpyPickler(f, protocol\u001b[38;5;241m=\u001b[39mprotocol)\u001b[38;5;241m.\u001b[39mdump(value)\n\u001b[1;32m    554\u001b[0m \u001b[38;5;28;01melse\u001b[39;00m:\n",
      "\u001b[0;31mFileNotFoundError\u001b[0m: [Errno 2] No such file or directory: 'models/scaler.pkl'"
     ]
    }
   ],
   "source": [
    "import joblib\n",
    "\n",
    "# Save the scaler\n",
    "joblib.dump(scaler, \"models/scaler.pkl\")\n"
   ]
  },
  {
   "cell_type": "code",
   "execution_count": 82,
   "metadata": {},
   "outputs": [
    {
     "name": "stdout",
     "output_type": "stream",
     "text": [
      "         Date  Adj Close     Close      High       Low      Open    Volume\n",
      "1  2020-01-02   5.973122  0.007555  0.005075  0.009884  0.006694  0.096576\n",
      "2  2020-01-03   5.877517  0.006889  0.004723  0.009422  0.006062  0.074342\n",
      "3  2020-01-06   5.902166  0.007060  0.004628  0.008923  0.005580  0.113934\n",
      "4  2020-01-07   5.973620  0.007559  0.005390  0.009826  0.006599  0.150047\n",
      "5  2020-01-08   5.984823  0.007637  0.005435  0.010136  0.006869  0.123942\n"
     ]
    }
   ],
   "source": [
    "from sklearn.preprocessing import MinMaxScaler\n",
    "\n",
    "# Define columns to normalize\n",
    "columns_to_normalize = [\"Close\", \"High\", \"Low\", \"Open\", \"Volume\"]\n",
    "\n",
    "# Initialize the scaler\n",
    "scaler = MinMaxScaler()\n",
    "\n",
    "# Apply the scaler to the relevant columns\n",
    "nvda[columns_to_normalize] = scaler.fit_transform(nvda[columns_to_normalize])\n",
    "\n",
    "# Print the normalized data\n",
    "print(nvda.head())\n"
   ]
  },
  {
   "cell_type": "code",
   "execution_count": 87,
   "metadata": {},
   "outputs": [
    {
     "data": {
      "text/html": [
       "<div>\n",
       "<style scoped>\n",
       "    .dataframe tbody tr th:only-of-type {\n",
       "        vertical-align: middle;\n",
       "    }\n",
       "\n",
       "    .dataframe tbody tr th {\n",
       "        vertical-align: top;\n",
       "    }\n",
       "\n",
       "    .dataframe thead th {\n",
       "        text-align: right;\n",
       "    }\n",
       "</style>\n",
       "<table border=\"1\" class=\"dataframe\">\n",
       "  <thead>\n",
       "    <tr style=\"text-align: right;\">\n",
       "      <th></th>\n",
       "      <th>Adj Close</th>\n",
       "      <th>Close</th>\n",
       "      <th>High</th>\n",
       "      <th>Low</th>\n",
       "      <th>Open</th>\n",
       "      <th>Volume</th>\n",
       "    </tr>\n",
       "  </thead>\n",
       "  <tbody>\n",
       "    <tr>\n",
       "      <th>count</th>\n",
       "      <td>1234.000000</td>\n",
       "      <td>1234.000000</td>\n",
       "      <td>1234.000000</td>\n",
       "      <td>1234.000000</td>\n",
       "      <td>1234.000000</td>\n",
       "      <td>1.234000e+03</td>\n",
       "    </tr>\n",
       "    <tr>\n",
       "      <th>mean</th>\n",
       "      <td>36.528408</td>\n",
       "      <td>36.551799</td>\n",
       "      <td>37.232162</td>\n",
       "      <td>35.806822</td>\n",
       "      <td>36.553338</td>\n",
       "      <td>4.517318e+08</td>\n",
       "    </tr>\n",
       "    <tr>\n",
       "      <th>std</th>\n",
       "      <td>36.010173</td>\n",
       "      <td>36.003207</td>\n",
       "      <td>36.688308</td>\n",
       "      <td>35.280641</td>\n",
       "      <td>36.062382</td>\n",
       "      <td>1.860269e+08</td>\n",
       "    </tr>\n",
       "    <tr>\n",
       "      <th>min</th>\n",
       "      <td>4.892763</td>\n",
       "      <td>4.910000</td>\n",
       "      <td>5.248500</td>\n",
       "      <td>4.517000</td>\n",
       "      <td>5.002500</td>\n",
       "      <td>9.788400e+07</td>\n",
       "    </tr>\n",
       "    <tr>\n",
       "      <th>25%</th>\n",
       "      <td>13.511204</td>\n",
       "      <td>13.543375</td>\n",
       "      <td>13.825063</td>\n",
       "      <td>13.337188</td>\n",
       "      <td>13.585625</td>\n",
       "      <td>3.166110e+08</td>\n",
       "    </tr>\n",
       "    <tr>\n",
       "      <th>50%</th>\n",
       "      <td>20.693473</td>\n",
       "      <td>20.729000</td>\n",
       "      <td>21.085000</td>\n",
       "      <td>20.519500</td>\n",
       "      <td>20.840750</td>\n",
       "      <td>4.270230e+08</td>\n",
       "    </tr>\n",
       "    <tr>\n",
       "      <th>75%</th>\n",
       "      <td>44.633824</td>\n",
       "      <td>44.651001</td>\n",
       "      <td>45.298749</td>\n",
       "      <td>43.881250</td>\n",
       "      <td>44.550001</td>\n",
       "      <td>5.506938e+08</td>\n",
       "    </tr>\n",
       "    <tr>\n",
       "      <th>max</th>\n",
       "      <td>148.880005</td>\n",
       "      <td>148.880005</td>\n",
       "      <td>152.889999</td>\n",
       "      <td>146.259995</td>\n",
       "      <td>149.350006</td>\n",
       "      <td>1.543911e+09</td>\n",
       "    </tr>\n",
       "  </tbody>\n",
       "</table>\n",
       "</div>"
      ],
      "text/plain": [
       "         Adj Close        Close         High          Low         Open  \\\n",
       "count  1234.000000  1234.000000  1234.000000  1234.000000  1234.000000   \n",
       "mean     36.528408    36.551799    37.232162    35.806822    36.553338   \n",
       "std      36.010173    36.003207    36.688308    35.280641    36.062382   \n",
       "min       4.892763     4.910000     5.248500     4.517000     5.002500   \n",
       "25%      13.511204    13.543375    13.825063    13.337188    13.585625   \n",
       "50%      20.693473    20.729000    21.085000    20.519500    20.840750   \n",
       "75%      44.633824    44.651001    45.298749    43.881250    44.550001   \n",
       "max     148.880005   148.880005   152.889999   146.259995   149.350006   \n",
       "\n",
       "             Volume  \n",
       "count  1.234000e+03  \n",
       "mean   4.517318e+08  \n",
       "std    1.860269e+08  \n",
       "min    9.788400e+07  \n",
       "25%    3.166110e+08  \n",
       "50%    4.270230e+08  \n",
       "75%    5.506938e+08  \n",
       "max    1.543911e+09  "
      ]
     },
     "execution_count": 87,
     "metadata": {},
     "output_type": "execute_result"
    }
   ],
   "source": [
    "nvda.describe()"
   ]
  },
  {
   "cell_type": "code",
   "execution_count": 90,
   "metadata": {},
   "outputs": [
    {
     "data": {
      "text/html": [
       "<div>\n",
       "<style scoped>\n",
       "    .dataframe tbody tr th:only-of-type {\n",
       "        vertical-align: middle;\n",
       "    }\n",
       "\n",
       "    .dataframe tbody tr th {\n",
       "        vertical-align: top;\n",
       "    }\n",
       "\n",
       "    .dataframe thead th {\n",
       "        text-align: right;\n",
       "    }\n",
       "</style>\n",
       "<table border=\"1\" class=\"dataframe\">\n",
       "  <thead>\n",
       "    <tr style=\"text-align: right;\">\n",
       "      <th></th>\n",
       "      <th>Date</th>\n",
       "      <th>Adj Close</th>\n",
       "      <th>Close</th>\n",
       "      <th>High</th>\n",
       "      <th>Low</th>\n",
       "      <th>Open</th>\n",
       "      <th>Volume</th>\n",
       "    </tr>\n",
       "  </thead>\n",
       "  <tbody>\n",
       "    <tr>\n",
       "      <th>1230</th>\n",
       "      <td>2024-11-19</td>\n",
       "      <td>147.009995</td>\n",
       "      <td>147.009995</td>\n",
       "      <td>147.130005</td>\n",
       "      <td>140.990005</td>\n",
       "      <td>141.320007</td>\n",
       "      <td>227834900.0</td>\n",
       "    </tr>\n",
       "    <tr>\n",
       "      <th>1231</th>\n",
       "      <td>2024-11-20</td>\n",
       "      <td>145.889999</td>\n",
       "      <td>145.889999</td>\n",
       "      <td>147.559998</td>\n",
       "      <td>142.729996</td>\n",
       "      <td>147.410004</td>\n",
       "      <td>309871700.0</td>\n",
       "    </tr>\n",
       "    <tr>\n",
       "      <th>1232</th>\n",
       "      <td>2024-11-21</td>\n",
       "      <td>146.669998</td>\n",
       "      <td>146.669998</td>\n",
       "      <td>152.889999</td>\n",
       "      <td>140.699997</td>\n",
       "      <td>149.350006</td>\n",
       "      <td>400946600.0</td>\n",
       "    </tr>\n",
       "    <tr>\n",
       "      <th>1233</th>\n",
       "      <td>2024-11-22</td>\n",
       "      <td>141.949997</td>\n",
       "      <td>141.949997</td>\n",
       "      <td>147.160004</td>\n",
       "      <td>141.100006</td>\n",
       "      <td>145.929993</td>\n",
       "      <td>236406200.0</td>\n",
       "    </tr>\n",
       "    <tr>\n",
       "      <th>1234</th>\n",
       "      <td>2024-11-25</td>\n",
       "      <td>136.020004</td>\n",
       "      <td>136.020004</td>\n",
       "      <td>142.050003</td>\n",
       "      <td>135.820007</td>\n",
       "      <td>141.990005</td>\n",
       "      <td>344941900.0</td>\n",
       "    </tr>\n",
       "  </tbody>\n",
       "</table>\n",
       "</div>"
      ],
      "text/plain": [
       "            Date   Adj Close       Close        High         Low        Open  \\\n",
       "1230  2024-11-19  147.009995  147.009995  147.130005  140.990005  141.320007   \n",
       "1231  2024-11-20  145.889999  145.889999  147.559998  142.729996  147.410004   \n",
       "1232  2024-11-21  146.669998  146.669998  152.889999  140.699997  149.350006   \n",
       "1233  2024-11-22  141.949997  141.949997  147.160004  141.100006  145.929993   \n",
       "1234  2024-11-25  136.020004  136.020004  142.050003  135.820007  141.990005   \n",
       "\n",
       "           Volume  \n",
       "1230  227834900.0  \n",
       "1231  309871700.0  \n",
       "1232  400946600.0  \n",
       "1233  236406200.0  \n",
       "1234  344941900.0  "
      ]
     },
     "execution_count": 90,
     "metadata": {},
     "output_type": "execute_result"
    }
   ],
   "source": [
    "nvda.tail()"
   ]
  },
  {
   "cell_type": "markdown",
   "metadata": {},
   "source": [
    "3. Feature Engineering"
   ]
  },
  {
   "cell_type": "code",
   "execution_count": 60,
   "metadata": {},
   "outputs": [],
   "source": [
    "def compute_rsi(prices, window=14):\n",
    "    \"\"\"\n",
    "    Compute the Relative Strength Index (RSI) for a given window.\n",
    "    \n",
    "    Args:\n",
    "        prices (pd.Series): A Pandas Series of closing prices.\n",
    "        window (int): The number of periods to calculate RSI over (default: 14).\n",
    "        \n",
    "    Returns:\n",
    "        pd.Series: RSI values.\n",
    "    \"\"\"\n",
    "    # Calculate price changes\n",
    "    delta = prices.diff()\n",
    "\n",
    "    # Separate gains and losses\n",
    "    gain = delta.where(delta > 0, 0)\n",
    "    loss = -delta.where(delta < 0, 0)\n",
    "\n",
    "    # Calculate average gain and loss\n",
    "    avg_gain = gain.rolling(window=window, min_periods=1).mean()\n",
    "    avg_loss = loss.rolling(window=window, min_periods=1).mean()\n",
    "\n",
    "    # Compute the Relative Strength (RS)\n",
    "    rs = avg_gain / avg_loss\n",
    "\n",
    "    # Compute RSI\n",
    "    rsi = 100 - (100 / (1 + rs))\n",
    "\n",
    "    return rsi\n",
    "\n",
    "nvda['Close'] = pd.to_numeric(nvda['Close'], errors='coerce')\n",
    "nvda = nvda.dropna(subset=['Close'])\n",
    "\n",
    "# Add RSI\n",
    "nvda['RSI'] = compute_rsi(nvda['Close'], window=14)"
   ]
  },
  {
   "cell_type": "code",
   "execution_count": 21,
   "metadata": {},
   "outputs": [],
   "source": [
    "# Add moving averages\n",
    "nvda['MA_5'] = nvda['Close'].rolling(window=5).mean()\n",
    "nvda['MA_10'] = nvda['Close'].rolling(window=10).mean()\n"
   ]
  },
  {
   "cell_type": "code",
   "execution_count": 22,
   "metadata": {},
   "outputs": [],
   "source": [
    "# Add lag features\n",
    "for lag in range(1, 6):\n",
    "    nvda[f'lag_{lag}'] = nvda['Close'].shift(lag)\n"
   ]
  },
  {
   "cell_type": "code",
   "execution_count": null,
   "metadata": {},
   "outputs": [],
   "source": [
    "# function for min-max normalization of stock\n",
    "def normalize_data(df):\n",
    "    min_max_scaler = sklearn.preprocessing.MinMaxScaler()\n",
    "    df['open'] = min_max_scaler.fit_transform(df.open.values.reshape(-1,1))\n",
    "    df['high'] = min_max_scaler.fit_transform(df.high.values.reshape(-1,1))\n",
    "    df['low'] = min_max_scaler.fit_transform(df.low.values.reshape(-1,1))\n",
    "    df['close'] = min_max_scaler.fit_transform(df['close'].values.reshape(-1,1))\n",
    "    return df\n",
    "\n",
    "# function to create train, validation, test data given stock data and sequence length\n",
    "def load_data(stock, seq_len):\n",
    "    data_raw = stock.as_matrix() # convert to numpy array\n",
    "    data = []\n",
    "    \n",
    "    # create all possible sequences of length seq_len\n",
    "    for index in range(len(data_raw) - seq_len): \n",
    "        data.append(data_raw[index: index + seq_len])\n",
    "    \n",
    "    data = np.array(data);\n",
    "    valid_set_size = int(np.round(valid_set_size_percentage/100*data.shape[0]));  \n",
    "    test_set_size = int(np.round(test_set_size_percentage/100*data.shape[0]));\n",
    "    train_set_size = data.shape[0] - (valid_set_size + test_set_size);\n",
    "    \n",
    "    x_train = data[:train_set_size,:-1,:]\n",
    "    y_train = data[:train_set_size,-1,:]\n",
    "    \n",
    "    x_valid = data[train_set_size:train_set_size+valid_set_size,:-1,:]\n",
    "    y_valid = data[train_set_size:train_set_size+valid_set_size,-1,:]\n",
    "    \n",
    "    x_test = data[train_set_size+valid_set_size:,:-1,:]\n",
    "    y_test = data[train_set_size+valid_set_size:,-1,:]\n",
    "    \n",
    "    return [x_train, y_train, x_valid, y_valid, x_test, y_test]"
   ]
  },
  {
   "cell_type": "markdown",
   "metadata": {},
   "source": [
    "4. Prediction Targets"
   ]
  },
  {
   "cell_type": "code",
   "execution_count": 23,
   "metadata": {},
   "outputs": [],
   "source": [
    "# Define prediction targets\n",
    "nvda['High_5'] = nvda['High'].rolling(window=5).max().shift(-5)\n",
    "nvda['Low_5'] = nvda['Low'].rolling(window=5).min().shift(-5)\n",
    "nvda['Avg_Close_5'] = nvda['Close'].rolling(window=5).mean().shift(-5)\n"
   ]
  },
  {
   "cell_type": "code",
   "execution_count": 15,
   "metadata": {},
   "outputs": [
    {
     "data": {
      "image/png": "[encoded data removed]",
      "text/plain": [
       "<Figure size 1000x500 with 1 Axes>"
      ]
     },
     "metadata": {},
     "output_type": "display_data"
    }
   ],
   "source": [
    "import matplotlib.pyplot as plt\n",
    "\n",
    "plt.figure(figsize=(10, 5))\n",
    "plt.plot(nvda.index, nvda['RSI'], label='RSI')\n",
    "plt.axhline(70, color='red', linestyle='--', label='Overbought')\n",
    "plt.axhline(30, color='green', linestyle='--', label='Oversold')\n",
    "plt.title('RSI Indicator')\n",
    "plt.legend()\n",
    "plt.show()\n"
   ]
  },
  {
   "cell_type": "markdown",
   "metadata": {},
   "source": [
    "5. Baseline Linear Regression Model\n"
   ]
  },
  {
   "cell_type": "code",
   "execution_count": 24,
   "metadata": {},
   "outputs": [],
   "source": [
    "from sklearn.model_selection import train_test_split\n",
    "\n",
    "# Drop rows with NaN values\n",
    "nvda = nvda.dropna()\n",
    "\n",
    "# Define features and targets\n",
    "features = [f'lag_{lag}' for lag in range(1, 6)]\n",
    "target = 'Avg_Close_5'\n",
    "\n",
    "X = nvda[features]\n",
    "y = nvda[target]\n",
    "\n",
    "# Train-test split\n",
    "X_train, X_test, y_train, y_test = train_test_split(X, y, test_size=0.2, random_state=42)\n"
   ]
  },
  {
   "cell_type": "code",
   "execution_count": 91,
   "metadata": {},
   "outputs": [
    {
     "name": "stdout",
     "output_type": "stream",
     "text": [
      "Mean Squared Error: 7.552150669261265\n"
     ]
    }
   ],
   "source": [
    "# Train the Model\n",
    "\n",
    "from sklearn.linear_model import LinearRegression\n",
    "from sklearn.metrics import mean_squared_error\n",
    "\n",
    "# Train linear regression model\n",
    "model = LinearRegression()\n",
    "model.fit(X_train, y_train)\n",
    "\n",
    "# Evaluate the model\n",
    "y_pred = model.predict(X_test)\n",
    "mse = mean_squared_error(y_test, y_pred)\n",
    "print(f\"Mean Squared Error: {mse}\")\n"
   ]
  },
  {
   "cell_type": "markdown",
   "metadata": {},
   "source": [
    "6. Advanced Model: LSTM"
   ]
  },
  {
   "cell_type": "code",
   "execution_count": 26,
   "metadata": {},
   "outputs": [],
   "source": [
    "# Prepare Sequential Data\n",
    "\n",
    "import numpy as np\n",
    "\n",
    "def create_sequences(data, sequence_length):\n",
    "    sequences, targets = [], []\n",
    "    for i in range(len(data) - sequence_length):\n",
    "        sequences.append(data[i:i+sequence_length])\n",
    "        targets.append(data[i+sequence_length])\n",
    "    return np.array(sequences), np.array(targets)\n",
    "\n",
    "sequence_length = 5\n",
    "features = ['Close']\n",
    "data = nvda[features].values\n",
    "\n",
    "X, y = create_sequences(data, sequence_length)\n"
   ]
  },
  {
   "cell_type": "code",
   "execution_count": 61,
   "metadata": {},
   "outputs": [
    {
     "name": "stdout",
     "output_type": "stream",
     "text": [
      "Epoch 1/200\n"
     ]
    },
    {
     "name": "stderr",
     "output_type": "stream",
     "text": [
      "/Users/rongfan/Documents/GitHub/SmartTrader/venv/lib/python3.9/site-packages/keras/src/layers/rnn/rnn.py:200: UserWarning: Do not pass an `input_shape`/`input_dim` argument to a layer. When using Sequential models, prefer using an `Input(shape)` object as the first layer in the model instead.\n",
      "  super().__init__(**kwargs)\n"
     ]
    },
    {
     "name": "stdout",
     "output_type": "stream",
     "text": [
      "\u001b[1m31/31\u001b[0m \u001b[32m━━━━━━━━━━━━━━━━━━━━\u001b[0m\u001b[37m\u001b[0m \u001b[1m1s\u001b[0m 6ms/step - loss: 520.6066 - val_loss: 9783.3828\n",
      "Epoch 2/200\n",
      "\u001b[1m31/31\u001b[0m \u001b[32m━━━━━━━━━━━━━━━━━━━━\u001b[0m\u001b[37m\u001b[0m \u001b[1m0s\u001b[0m 2ms/step - loss: 327.8925 - val_loss: 8865.9746\n",
      "Epoch 3/200\n",
      "\u001b[1m31/31\u001b[0m \u001b[32m━━━━━━━━━━━━━━━━━━━━\u001b[0m\u001b[37m\u001b[0m \u001b[1m0s\u001b[0m 4ms/step - loss: 236.2121 - val_loss: 8516.3867\n",
      "Epoch 4/200\n",
      "\u001b[1m31/31\u001b[0m \u001b[32m━━━━━━━━━━━━━━━━━━━━\u001b[0m\u001b[37m\u001b[0m \u001b[1m0s\u001b[0m 3ms/step - loss: 210.0164 - val_loss: 8249.6807\n",
      "Epoch 5/200\n",
      "\u001b[1m31/31\u001b[0m \u001b[32m━━━━━━━━━━━━━━━━━━━━\u001b[0m\u001b[37m\u001b[0m \u001b[1m0s\u001b[0m 3ms/step - loss: 173.1361 - val_loss: 8010.8062\n",
      "Epoch 6/200\n",
      "\u001b[1m31/31\u001b[0m \u001b[32m━━━━━━━━━━━━━━━━━━━━\u001b[0m\u001b[37m\u001b[0m \u001b[1m0s\u001b[0m 3ms/step - loss: 160.4409 - val_loss: 7820.6162\n",
      "Epoch 7/200\n",
      "\u001b[1m31/31\u001b[0m \u001b[32m━━━━━━━━━━━━━━━━━━━━\u001b[0m\u001b[37m\u001b[0m \u001b[1m0s\u001b[0m 3ms/step - loss: 151.2922 - val_loss: 7658.8618\n",
      "Epoch 8/200\n",
      "\u001b[1m31/31\u001b[0m \u001b[32m━━━━━━━━━━━━━━━━━━━━\u001b[0m\u001b[37m\u001b[0m \u001b[1m0s\u001b[0m 3ms/step - loss: 143.4953 - val_loss: 7526.4023\n",
      "Epoch 9/200\n",
      "\u001b[1m31/31\u001b[0m \u001b[32m━━━━━━━━━━━━━━━━━━━━\u001b[0m\u001b[37m\u001b[0m \u001b[1m0s\u001b[0m 3ms/step - loss: 128.6777 - val_loss: 7418.4829\n",
      "Epoch 10/200\n",
      "\u001b[1m31/31\u001b[0m \u001b[32m━━━━━━━━━━━━━━━━━━━━\u001b[0m\u001b[37m\u001b[0m \u001b[1m0s\u001b[0m 3ms/step - loss: 136.3979 - val_loss: 7326.6494\n",
      "Epoch 11/200\n",
      "\u001b[1m31/31\u001b[0m \u001b[32m━━━━━━━━━━━━━━━━━━━━\u001b[0m\u001b[37m\u001b[0m \u001b[1m0s\u001b[0m 3ms/step - loss: 104.5200 - val_loss: 7175.4849\n",
      "Epoch 12/200\n",
      "\u001b[1m31/31\u001b[0m \u001b[32m━━━━━━━━━━━━━━━━━━━━\u001b[0m\u001b[37m\u001b[0m \u001b[1m0s\u001b[0m 4ms/step - loss: 90.0244 - val_loss: 6992.4922\n",
      "Epoch 13/200\n",
      "\u001b[1m31/31\u001b[0m \u001b[32m━━━━━━━━━━━━━━━━━━━━\u001b[0m\u001b[37m\u001b[0m \u001b[1m0s\u001b[0m 3ms/step - loss: 85.0614 - val_loss: 6822.7173\n",
      "Epoch 14/200\n",
      "\u001b[1m31/31\u001b[0m \u001b[32m━━━━━━━━━━━━━━━━━━━━\u001b[0m\u001b[37m\u001b[0m \u001b[1m0s\u001b[0m 3ms/step - loss: 69.2598 - val_loss: 6674.6309\n",
      "Epoch 15/200\n",
      "\u001b[1m31/31\u001b[0m \u001b[32m━━━━━━━━━━━━━━━━━━━━\u001b[0m\u001b[37m\u001b[0m \u001b[1m0s\u001b[0m 3ms/step - loss: 67.1847 - val_loss: 6528.4839\n",
      "Epoch 16/200\n",
      "\u001b[1m31/31\u001b[0m \u001b[32m━━━━━━━━━━━━━━━━━━━━\u001b[0m\u001b[37m\u001b[0m \u001b[1m0s\u001b[0m 3ms/step - loss: 60.5394 - val_loss: 6394.5078\n",
      "Epoch 17/200\n",
      "\u001b[1m31/31\u001b[0m \u001b[32m━━━━━━━━━━━━━━━━━━━━\u001b[0m\u001b[37m\u001b[0m \u001b[1m0s\u001b[0m 3ms/step - loss: 58.4386 - val_loss: 6273.0610\n",
      "Epoch 18/200\n",
      "\u001b[1m31/31\u001b[0m \u001b[32m━━━━━━━━━━━━━━━━━━━━\u001b[0m\u001b[37m\u001b[0m \u001b[1m0s\u001b[0m 10ms/step - loss: 41.7898 - val_loss: 6159.5903\n",
      "Epoch 19/200\n",
      "\u001b[1m31/31\u001b[0m \u001b[32m━━━━━━━━━━━━━━━━━━━━\u001b[0m\u001b[37m\u001b[0m \u001b[1m0s\u001b[0m 9ms/step - loss: 43.0158 - val_loss: 6043.0771\n",
      "Epoch 20/200\n",
      "\u001b[1m31/31\u001b[0m \u001b[32m━━━━━━━━━━━━━━━━━━━━\u001b[0m\u001b[37m\u001b[0m \u001b[1m0s\u001b[0m 7ms/step - loss: 38.4342 - val_loss: 5935.0737\n",
      "Epoch 21/200\n",
      "\u001b[1m31/31\u001b[0m \u001b[32m━━━━━━━━━━━━━━━━━━━━\u001b[0m\u001b[37m\u001b[0m \u001b[1m0s\u001b[0m 3ms/step - loss: 35.7988 - val_loss: 5836.8032\n",
      "Epoch 22/200\n",
      "\u001b[1m31/31\u001b[0m \u001b[32m━━━━━━━━━━━━━━━━━━━━\u001b[0m\u001b[37m\u001b[0m \u001b[1m0s\u001b[0m 3ms/step - loss: 36.8579 - val_loss: 5736.3691\n",
      "Epoch 23/200\n",
      "\u001b[1m31/31\u001b[0m \u001b[32m━━━━━━━━━━━━━━━━━━━━\u001b[0m\u001b[37m\u001b[0m \u001b[1m0s\u001b[0m 3ms/step - loss: 30.3103 - val_loss: 5649.2119\n",
      "Epoch 24/200\n",
      "\u001b[1m31/31\u001b[0m \u001b[32m━━━━━━━━━━━━━━━━━━━━\u001b[0m\u001b[37m\u001b[0m \u001b[1m0s\u001b[0m 3ms/step - loss: 26.6432 - val_loss: 5557.2095\n",
      "Epoch 25/200\n",
      "\u001b[1m31/31\u001b[0m \u001b[32m━━━━━━━━━━━━━━━━━━━━\u001b[0m\u001b[37m\u001b[0m \u001b[1m0s\u001b[0m 3ms/step - loss: 25.6627 - val_loss: 5468.8037\n",
      "Epoch 26/200\n",
      "\u001b[1m31/31\u001b[0m \u001b[32m━━━━━━━━━━━━━━━━━━━━\u001b[0m\u001b[37m\u001b[0m \u001b[1m0s\u001b[0m 3ms/step - loss: 23.2442 - val_loss: 5391.4487\n",
      "Epoch 27/200\n",
      "\u001b[1m31/31\u001b[0m \u001b[32m━━━━━━━━━━━━━━━━━━━━\u001b[0m\u001b[37m\u001b[0m \u001b[1m0s\u001b[0m 3ms/step - loss: 21.9133 - val_loss: 5312.4932\n",
      "Epoch 28/200\n",
      "\u001b[1m31/31\u001b[0m \u001b[32m━━━━━━━━━━━━━━━━━━━━\u001b[0m\u001b[37m\u001b[0m \u001b[1m0s\u001b[0m 4ms/step - loss: 21.4765 - val_loss: 5235.4829\n",
      "Epoch 29/200\n",
      "\u001b[1m31/31\u001b[0m \u001b[32m━━━━━━━━━━━━━━━━━━━━\u001b[0m\u001b[37m\u001b[0m \u001b[1m0s\u001b[0m 3ms/step - loss: 15.2904 - val_loss: 5164.5591\n",
      "Epoch 30/200\n",
      "\u001b[1m31/31\u001b[0m \u001b[32m━━━━━━━━━━━━━━━━━━━━\u001b[0m\u001b[37m\u001b[0m \u001b[1m0s\u001b[0m 3ms/step - loss: 17.9592 - val_loss: 5092.3179\n",
      "Epoch 31/200\n",
      "\u001b[1m31/31\u001b[0m \u001b[32m━━━━━━━━━━━━━━━━━━━━\u001b[0m\u001b[37m\u001b[0m \u001b[1m0s\u001b[0m 3ms/step - loss: 14.0458 - val_loss: 5025.3970\n",
      "Epoch 32/200\n",
      "\u001b[1m31/31\u001b[0m \u001b[32m━━━━━━━━━━━━━━━━━━━━\u001b[0m\u001b[37m\u001b[0m \u001b[1m0s\u001b[0m 4ms/step - loss: 13.5519 - val_loss: 4957.7021\n",
      "Epoch 33/200\n",
      "\u001b[1m31/31\u001b[0m \u001b[32m━━━━━━━━━━━━━━━━━━━━\u001b[0m\u001b[37m\u001b[0m \u001b[1m0s\u001b[0m 3ms/step - loss: 14.3887 - val_loss: 4894.8203\n",
      "Epoch 34/200\n",
      "\u001b[1m31/31\u001b[0m \u001b[32m━━━━━━━━━━━━━━━━━━━━\u001b[0m\u001b[37m\u001b[0m \u001b[1m0s\u001b[0m 3ms/step - loss: 10.1786 - val_loss: 4834.8882\n",
      "Epoch 35/200\n",
      "\u001b[1m31/31\u001b[0m \u001b[32m━━━━━━━━━━━━━━━━━━━━\u001b[0m\u001b[37m\u001b[0m \u001b[1m0s\u001b[0m 3ms/step - loss: 8.5197 - val_loss: 4777.7622\n",
      "Epoch 36/200\n",
      "\u001b[1m31/31\u001b[0m \u001b[32m━━━━━━━━━━━━━━━━━━━━\u001b[0m\u001b[37m\u001b[0m \u001b[1m0s\u001b[0m 3ms/step - loss: 9.3322 - val_loss: 4720.7461\n",
      "Epoch 37/200\n",
      "\u001b[1m31/31\u001b[0m \u001b[32m━━━━━━━━━━━━━━━━━━━━\u001b[0m\u001b[37m\u001b[0m \u001b[1m0s\u001b[0m 3ms/step - loss: 8.7533 - val_loss: 4666.2324\n",
      "Epoch 38/200\n",
      "\u001b[1m31/31\u001b[0m \u001b[32m━━━━━━━━━━━━━━━━━━━━\u001b[0m\u001b[37m\u001b[0m \u001b[1m0s\u001b[0m 3ms/step - loss: 7.8461 - val_loss: 4617.1504\n",
      "Epoch 39/200\n",
      "\u001b[1m31/31\u001b[0m \u001b[32m━━━━━━━━━━━━━━━━━━━━\u001b[0m\u001b[37m\u001b[0m \u001b[1m0s\u001b[0m 3ms/step - loss: 6.9161 - val_loss: 4570.7075\n",
      "Epoch 40/200\n",
      "\u001b[1m31/31\u001b[0m \u001b[32m━━━━━━━━━━━━━━━━━━━━\u001b[0m\u001b[37m\u001b[0m \u001b[1m0s\u001b[0m 3ms/step - loss: 6.7306 - val_loss: 4524.4712\n",
      "Epoch 41/200\n",
      "\u001b[1m31/31\u001b[0m \u001b[32m━━━━━━━━━━━━━━━━━━━━\u001b[0m\u001b[37m\u001b[0m \u001b[1m0s\u001b[0m 3ms/step - loss: 6.5034 - val_loss: 4481.1221\n",
      "Epoch 42/200\n",
      "\u001b[1m31/31\u001b[0m \u001b[32m━━━━━━━━━━━━━━━━━━━━\u001b[0m\u001b[37m\u001b[0m \u001b[1m0s\u001b[0m 3ms/step - loss: 5.4660 - val_loss: 4441.5215\n",
      "Epoch 43/200\n",
      "\u001b[1m31/31\u001b[0m \u001b[32m━━━━━━━━━━━━━━━━━━━━\u001b[0m\u001b[37m\u001b[0m \u001b[1m0s\u001b[0m 3ms/step - loss: 4.3215 - val_loss: 4403.6631\n",
      "Epoch 44/200\n",
      "\u001b[1m31/31\u001b[0m \u001b[32m━━━━━━━━━━━━━━━━━━━━\u001b[0m\u001b[37m\u001b[0m \u001b[1m0s\u001b[0m 4ms/step - loss: 4.1523 - val_loss: 4366.9292\n",
      "Epoch 45/200\n",
      "\u001b[1m31/31\u001b[0m \u001b[32m━━━━━━━━━━━━━━━━━━━━\u001b[0m\u001b[37m\u001b[0m \u001b[1m0s\u001b[0m 3ms/step - loss: 3.6766 - val_loss: 4330.9102\n",
      "Epoch 46/200\n",
      "\u001b[1m31/31\u001b[0m \u001b[32m━━━━━━━━━━━━━━━━━━━━\u001b[0m\u001b[37m\u001b[0m \u001b[1m0s\u001b[0m 3ms/step - loss: 3.7149 - val_loss: 4297.5752\n",
      "Epoch 47/200\n",
      "\u001b[1m31/31\u001b[0m \u001b[32m━━━━━━━━━━━━━━━━━━━━\u001b[0m\u001b[37m\u001b[0m \u001b[1m0s\u001b[0m 3ms/step - loss: 3.2768 - val_loss: 4267.7734\n",
      "Epoch 48/200\n",
      "\u001b[1m31/31\u001b[0m \u001b[32m━━━━━━━━━━━━━━━━━━━━\u001b[0m\u001b[37m\u001b[0m \u001b[1m0s\u001b[0m 3ms/step - loss: 3.5598 - val_loss: 4236.3008\n",
      "Epoch 49/200\n",
      "\u001b[1m31/31\u001b[0m \u001b[32m━━━━━━━━━━━━━━━━━━━━\u001b[0m\u001b[37m\u001b[0m \u001b[1m0s\u001b[0m 3ms/step - loss: 3.1761 - val_loss: 4209.3208\n",
      "Epoch 50/200\n",
      "\u001b[1m31/31\u001b[0m \u001b[32m━━━━━━━━━━━━━━━━━━━━\u001b[0m\u001b[37m\u001b[0m \u001b[1m0s\u001b[0m 3ms/step - loss: 2.4908 - val_loss: 4182.3584\n",
      "Epoch 51/200\n",
      "\u001b[1m31/31\u001b[0m \u001b[32m━━━━━━━━━━━━━━━━━━━━\u001b[0m\u001b[37m\u001b[0m \u001b[1m0s\u001b[0m 3ms/step - loss: 2.7688 - val_loss: 4155.4165\n",
      "Epoch 52/200\n",
      "\u001b[1m31/31\u001b[0m \u001b[32m━━━━━━━━━━━━━━━━━━━━\u001b[0m\u001b[37m\u001b[0m \u001b[1m0s\u001b[0m 3ms/step - loss: 2.5849 - val_loss: 4131.7461\n",
      "Epoch 53/200\n",
      "\u001b[1m31/31\u001b[0m \u001b[32m━━━━━━━━━━━━━━━━━━━━\u001b[0m\u001b[37m\u001b[0m \u001b[1m0s\u001b[0m 3ms/step - loss: 2.2306 - val_loss: 4108.6260\n",
      "Epoch 54/200\n",
      "\u001b[1m31/31\u001b[0m \u001b[32m━━━━━━━━━━━━━━━━━━━━\u001b[0m\u001b[37m\u001b[0m \u001b[1m0s\u001b[0m 3ms/step - loss: 1.8300 - val_loss: 4087.4768\n",
      "Epoch 55/200\n",
      "\u001b[1m31/31\u001b[0m \u001b[32m━━━━━━━━━━━━━━━━━━━━\u001b[0m\u001b[37m\u001b[0m \u001b[1m0s\u001b[0m 3ms/step - loss: 1.9119 - val_loss: 4064.2366\n",
      "Epoch 56/200\n",
      "\u001b[1m31/31\u001b[0m \u001b[32m━━━━━━━━━━━━━━━━━━━━\u001b[0m\u001b[37m\u001b[0m \u001b[1m0s\u001b[0m 5ms/step - loss: 1.7272 - val_loss: 4046.0708\n",
      "Epoch 57/200\n",
      "\u001b[1m31/31\u001b[0m \u001b[32m━━━━━━━━━━━━━━━━━━━━\u001b[0m\u001b[37m\u001b[0m \u001b[1m0s\u001b[0m 3ms/step - loss: 1.6003 - val_loss: 4026.9243\n",
      "Epoch 58/200\n",
      "\u001b[1m31/31\u001b[0m \u001b[32m━━━━━━━━━━━━━━━━━━━━\u001b[0m\u001b[37m\u001b[0m \u001b[1m0s\u001b[0m 3ms/step - loss: 1.6964 - val_loss: 4008.6885\n",
      "Epoch 59/200\n",
      "\u001b[1m31/31\u001b[0m \u001b[32m━━━━━━━━━━━━━━━━━━━━\u001b[0m\u001b[37m\u001b[0m \u001b[1m0s\u001b[0m 3ms/step - loss: 1.4675 - val_loss: 3991.5747\n",
      "Epoch 60/200\n",
      "\u001b[1m31/31\u001b[0m \u001b[32m━━━━━━━━━━━━━━━━━━━━\u001b[0m\u001b[37m\u001b[0m \u001b[1m0s\u001b[0m 3ms/step - loss: 1.5309 - val_loss: 3975.6062\n",
      "Epoch 61/200\n",
      "\u001b[1m31/31\u001b[0m \u001b[32m━━━━━━━━━━━━━━━━━━━━\u001b[0m\u001b[37m\u001b[0m \u001b[1m0s\u001b[0m 3ms/step - loss: 1.2106 - val_loss: 3960.6421\n",
      "Epoch 62/200\n",
      "\u001b[1m31/31\u001b[0m \u001b[32m━━━━━━━━━━━━━━━━━━━━\u001b[0m\u001b[37m\u001b[0m \u001b[1m0s\u001b[0m 3ms/step - loss: 1.5118 - val_loss: 3945.5452\n",
      "Epoch 63/200\n",
      "\u001b[1m31/31\u001b[0m \u001b[32m━━━━━━━━━━━━━━━━━━━━\u001b[0m\u001b[37m\u001b[0m \u001b[1m0s\u001b[0m 3ms/step - loss: 1.1746 - val_loss: 3931.7161\n",
      "Epoch 64/200\n",
      "\u001b[1m31/31\u001b[0m \u001b[32m━━━━━━━━━━━━━━━━━━━━\u001b[0m\u001b[37m\u001b[0m \u001b[1m0s\u001b[0m 3ms/step - loss: 1.5137 - val_loss: 3917.8345\n",
      "Epoch 65/200\n",
      "\u001b[1m31/31\u001b[0m \u001b[32m━━━━━━━━━━━━━━━━━━━━\u001b[0m\u001b[37m\u001b[0m \u001b[1m0s\u001b[0m 3ms/step - loss: 1.0177 - val_loss: 3906.2217\n",
      "Epoch 66/200\n",
      "\u001b[1m31/31\u001b[0m \u001b[32m━━━━━━━━━━━━━━━━━━━━\u001b[0m\u001b[37m\u001b[0m \u001b[1m0s\u001b[0m 3ms/step - loss: 1.1291 - val_loss: 3892.8096\n",
      "Epoch 67/200\n",
      "\u001b[1m31/31\u001b[0m \u001b[32m━━━━━━━━━━━━━━━━━━━━\u001b[0m\u001b[37m\u001b[0m \u001b[1m0s\u001b[0m 3ms/step - loss: 1.0817 - val_loss: 3879.8062\n",
      "Epoch 68/200\n",
      "\u001b[1m31/31\u001b[0m \u001b[32m━━━━━━━━━━━━━━━━━━━━\u001b[0m\u001b[37m\u001b[0m \u001b[1m0s\u001b[0m 3ms/step - loss: 1.0835 - val_loss: 3868.2537\n",
      "Epoch 69/200\n",
      "\u001b[1m31/31\u001b[0m \u001b[32m━━━━━━━━━━━━━━━━━━━━\u001b[0m\u001b[37m\u001b[0m \u001b[1m0s\u001b[0m 3ms/step - loss: 1.0910 - val_loss: 3854.5581\n",
      "Epoch 70/200\n",
      "\u001b[1m31/31\u001b[0m \u001b[32m━━━━━━━━━━━━━━━━━━━━\u001b[0m\u001b[37m\u001b[0m \u001b[1m0s\u001b[0m 3ms/step - loss: 1.1602 - val_loss: 3842.8538\n",
      "Epoch 71/200\n",
      "\u001b[1m31/31\u001b[0m \u001b[32m━━━━━━━━━━━━━━━━━━━━\u001b[0m\u001b[37m\u001b[0m \u001b[1m0s\u001b[0m 3ms/step - loss: 1.0643 - val_loss: 3832.1787\n",
      "Epoch 72/200\n",
      "\u001b[1m31/31\u001b[0m \u001b[32m━━━━━━━━━━━━━━━━━━━━\u001b[0m\u001b[37m\u001b[0m \u001b[1m0s\u001b[0m 3ms/step - loss: 0.8656 - val_loss: 3822.1709\n",
      "Epoch 73/200\n",
      "\u001b[1m31/31\u001b[0m \u001b[32m━━━━━━━━━━━━━━━━━━━━\u001b[0m\u001b[37m\u001b[0m \u001b[1m0s\u001b[0m 3ms/step - loss: 1.0906 - val_loss: 3810.7258\n",
      "Epoch 74/200\n",
      "\u001b[1m31/31\u001b[0m \u001b[32m━━━━━━━━━━━━━━━━━━━━\u001b[0m\u001b[37m\u001b[0m \u001b[1m0s\u001b[0m 3ms/step - loss: 1.0140 - val_loss: 3801.1326\n",
      "Epoch 75/200\n",
      "\u001b[1m31/31\u001b[0m \u001b[32m━━━━━━━━━━━━━━━━━━━━\u001b[0m\u001b[37m\u001b[0m \u001b[1m0s\u001b[0m 3ms/step - loss: 0.8282 - val_loss: 3791.2107\n",
      "Epoch 76/200\n",
      "\u001b[1m31/31\u001b[0m \u001b[32m━━━━━━━━━━━━━━━━━━━━\u001b[0m\u001b[37m\u001b[0m \u001b[1m0s\u001b[0m 3ms/step - loss: 0.9427 - val_loss: 3783.3899\n",
      "Epoch 77/200\n",
      "\u001b[1m31/31\u001b[0m \u001b[32m━━━━━━━━━━━━━━━━━━━━\u001b[0m\u001b[37m\u001b[0m \u001b[1m0s\u001b[0m 3ms/step - loss: 0.9001 - val_loss: 3774.0278\n",
      "Epoch 78/200\n",
      "\u001b[1m31/31\u001b[0m \u001b[32m━━━━━━━━━━━━━━━━━━━━\u001b[0m\u001b[37m\u001b[0m \u001b[1m0s\u001b[0m 3ms/step - loss: 0.8190 - val_loss: 3764.4600\n",
      "Epoch 79/200\n",
      "\u001b[1m31/31\u001b[0m \u001b[32m━━━━━━━━━━━━━━━━━━━━\u001b[0m\u001b[37m\u001b[0m \u001b[1m0s\u001b[0m 3ms/step - loss: 0.8233 - val_loss: 3755.4368\n",
      "Epoch 80/200\n",
      "\u001b[1m31/31\u001b[0m \u001b[32m━━━━━━━━━━━━━━━━━━━━\u001b[0m\u001b[37m\u001b[0m \u001b[1m0s\u001b[0m 3ms/step - loss: 0.6799 - val_loss: 3748.1580\n",
      "Epoch 81/200\n",
      "\u001b[1m31/31\u001b[0m \u001b[32m━━━━━━━━━━━━━━━━━━━━\u001b[0m\u001b[37m\u001b[0m \u001b[1m0s\u001b[0m 3ms/step - loss: 1.0506 - val_loss: 3740.3643\n",
      "Epoch 82/200\n",
      "\u001b[1m31/31\u001b[0m \u001b[32m━━━━━━━━━━━━━━━━━━━━\u001b[0m\u001b[37m\u001b[0m \u001b[1m0s\u001b[0m 3ms/step - loss: 0.8271 - val_loss: 3733.1592\n",
      "Epoch 83/200\n",
      "\u001b[1m31/31\u001b[0m \u001b[32m━━━━━━━━━━━━━━━━━━━━\u001b[0m\u001b[37m\u001b[0m \u001b[1m0s\u001b[0m 3ms/step - loss: 0.7403 - val_loss: 3723.6997\n",
      "Epoch 84/200\n",
      "\u001b[1m31/31\u001b[0m \u001b[32m━━━━━━━━━━━━━━━━━━━━\u001b[0m\u001b[37m\u001b[0m \u001b[1m0s\u001b[0m 3ms/step - loss: 0.8102 - val_loss: 3716.7664\n",
      "Epoch 85/200\n",
      "\u001b[1m31/31\u001b[0m \u001b[32m━━━━━━━━━━━━━━━━━━━━\u001b[0m\u001b[37m\u001b[0m \u001b[1m0s\u001b[0m 3ms/step - loss: 0.9002 - val_loss: 3709.2866\n",
      "Epoch 86/200\n",
      "\u001b[1m31/31\u001b[0m \u001b[32m━━━━━━━━━━━━━━━━━━━━\u001b[0m\u001b[37m\u001b[0m \u001b[1m0s\u001b[0m 3ms/step - loss: 0.7012 - val_loss: 3702.6597\n",
      "Epoch 87/200\n",
      "\u001b[1m31/31\u001b[0m \u001b[32m━━━━━━━━━━━━━━━━━━━━\u001b[0m\u001b[37m\u001b[0m \u001b[1m0s\u001b[0m 3ms/step - loss: 0.8820 - val_loss: 3694.7771\n",
      "Epoch 88/200\n",
      "\u001b[1m31/31\u001b[0m \u001b[32m━━━━━━━━━━━━━━━━━━━━\u001b[0m\u001b[37m\u001b[0m \u001b[1m0s\u001b[0m 3ms/step - loss: 0.8281 - val_loss: 3688.6492\n",
      "Epoch 89/200\n",
      "\u001b[1m31/31\u001b[0m \u001b[32m━━━━━━━━━━━━━━━━━━━━\u001b[0m\u001b[37m\u001b[0m \u001b[1m0s\u001b[0m 3ms/step - loss: 0.7820 - val_loss: 3681.3884\n",
      "Epoch 90/200\n",
      "\u001b[1m31/31\u001b[0m \u001b[32m━━━━━━━━━━━━━━━━━━━━\u001b[0m\u001b[37m\u001b[0m \u001b[1m0s\u001b[0m 3ms/step - loss: 0.6330 - val_loss: 3674.8462\n",
      "Epoch 91/200\n",
      "\u001b[1m31/31\u001b[0m \u001b[32m━━━━━━━━━━━━━━━━━━━━\u001b[0m\u001b[37m\u001b[0m \u001b[1m0s\u001b[0m 3ms/step - loss: 0.6742 - val_loss: 3668.1724\n",
      "Epoch 92/200\n",
      "\u001b[1m31/31\u001b[0m \u001b[32m━━━━━━━━━━━━━━━━━━━━\u001b[0m\u001b[37m\u001b[0m \u001b[1m0s\u001b[0m 3ms/step - loss: 0.5978 - val_loss: 3662.1719\n",
      "Epoch 93/200\n",
      "\u001b[1m31/31\u001b[0m \u001b[32m━━━━━━━━━━━━━━━━━━━━\u001b[0m\u001b[37m\u001b[0m \u001b[1m0s\u001b[0m 3ms/step - loss: 0.6041 - val_loss: 3655.5640\n",
      "Epoch 94/200\n",
      "\u001b[1m31/31\u001b[0m \u001b[32m━━━━━━━━━━━━━━━━━━━━\u001b[0m\u001b[37m\u001b[0m \u001b[1m0s\u001b[0m 3ms/step - loss: 0.6482 - val_loss: 3649.4287\n",
      "Epoch 95/200\n",
      "\u001b[1m31/31\u001b[0m \u001b[32m━━━━━━━━━━━━━━━━━━━━\u001b[0m\u001b[37m\u001b[0m \u001b[1m0s\u001b[0m 3ms/step - loss: 0.8440 - val_loss: 3643.0503\n",
      "Epoch 96/200\n",
      "\u001b[1m31/31\u001b[0m \u001b[32m━━━━━━━━━━━━━━━━━━━━\u001b[0m\u001b[37m\u001b[0m \u001b[1m0s\u001b[0m 3ms/step - loss: 0.6465 - val_loss: 3637.7246\n",
      "Epoch 97/200\n",
      "\u001b[1m31/31\u001b[0m \u001b[32m━━━━━━━━━━━━━━━━━━━━\u001b[0m\u001b[37m\u001b[0m \u001b[1m0s\u001b[0m 3ms/step - loss: 0.5713 - val_loss: 3632.5376\n",
      "Epoch 98/200\n",
      "\u001b[1m31/31\u001b[0m \u001b[32m━━━━━━━━━━━━━━━━━━━━\u001b[0m\u001b[37m\u001b[0m \u001b[1m0s\u001b[0m 4ms/step - loss: 0.7205 - val_loss: 3626.9309\n",
      "Epoch 99/200\n",
      "\u001b[1m31/31\u001b[0m \u001b[32m━━━━━━━━━━━━━━━━━━━━\u001b[0m\u001b[37m\u001b[0m \u001b[1m0s\u001b[0m 3ms/step - loss: 0.6213 - val_loss: 3621.4355\n",
      "Epoch 100/200\n",
      "\u001b[1m31/31\u001b[0m \u001b[32m━━━━━━━━━━━━━━━━━━━━\u001b[0m\u001b[37m\u001b[0m \u001b[1m0s\u001b[0m 3ms/step - loss: 0.6785 - val_loss: 3616.1289\n",
      "Epoch 101/200\n",
      "\u001b[1m31/31\u001b[0m \u001b[32m━━━━━━━━━━━━━━━━━━━━\u001b[0m\u001b[37m\u001b[0m \u001b[1m0s\u001b[0m 3ms/step - loss: 0.6809 - val_loss: 3610.5471\n",
      "Epoch 102/200\n",
      "\u001b[1m31/31\u001b[0m \u001b[32m━━━━━━━━━━━━━━━━━━━━\u001b[0m\u001b[37m\u001b[0m \u001b[1m0s\u001b[0m 3ms/step - loss: 0.6450 - val_loss: 3605.3494\n",
      "Epoch 103/200\n",
      "\u001b[1m31/31\u001b[0m \u001b[32m━━━━━━━━━━━━━━━━━━━━\u001b[0m\u001b[37m\u001b[0m \u001b[1m0s\u001b[0m 3ms/step - loss: 0.6193 - val_loss: 3600.0222\n",
      "Epoch 104/200\n",
      "\u001b[1m31/31\u001b[0m \u001b[32m━━━━━━━━━━━━━━━━━━━━\u001b[0m\u001b[37m\u001b[0m \u001b[1m0s\u001b[0m 3ms/step - loss: 0.5930 - val_loss: 3595.4246\n",
      "Epoch 105/200\n",
      "\u001b[1m31/31\u001b[0m \u001b[32m━━━━━━━━━━━━━━━━━━━━\u001b[0m\u001b[37m\u001b[0m \u001b[1m0s\u001b[0m 3ms/step - loss: 0.7635 - val_loss: 3590.8806\n",
      "Epoch 106/200\n",
      "\u001b[1m31/31\u001b[0m \u001b[32m━━━━━━━━━━━━━━━━━━━━\u001b[0m\u001b[37m\u001b[0m \u001b[1m0s\u001b[0m 3ms/step - loss: 0.6157 - val_loss: 3587.0227\n",
      "Epoch 107/200\n",
      "\u001b[1m31/31\u001b[0m \u001b[32m━━━━━━━━━━━━━━━━━━━━\u001b[0m\u001b[37m\u001b[0m \u001b[1m0s\u001b[0m 3ms/step - loss: 0.5722 - val_loss: 3582.4438\n",
      "Epoch 108/200\n",
      "\u001b[1m31/31\u001b[0m \u001b[32m━━━━━━━━━━━━━━━━━━━━\u001b[0m\u001b[37m\u001b[0m \u001b[1m0s\u001b[0m 3ms/step - loss: 0.6413 - val_loss: 3578.2292\n",
      "Epoch 109/200\n",
      "\u001b[1m31/31\u001b[0m \u001b[32m━━━━━━━━━━━━━━━━━━━━\u001b[0m\u001b[37m\u001b[0m \u001b[1m0s\u001b[0m 3ms/step - loss: 0.7441 - val_loss: 3573.9517\n",
      "Epoch 110/200\n",
      "\u001b[1m31/31\u001b[0m \u001b[32m━━━━━━━━━━━━━━━━━━━━\u001b[0m\u001b[37m\u001b[0m \u001b[1m0s\u001b[0m 3ms/step - loss: 0.5995 - val_loss: 3570.5078\n",
      "Epoch 111/200\n",
      "\u001b[1m31/31\u001b[0m \u001b[32m━━━━━━━━━━━━━━━━━━━━\u001b[0m\u001b[37m\u001b[0m \u001b[1m0s\u001b[0m 3ms/step - loss: 0.6225 - val_loss: 3565.0386\n",
      "Epoch 112/200\n",
      "\u001b[1m31/31\u001b[0m \u001b[32m━━━━━━━━━━━━━━━━━━━━\u001b[0m\u001b[37m\u001b[0m \u001b[1m0s\u001b[0m 3ms/step - loss: 0.6638 - val_loss: 3560.4043\n",
      "Epoch 113/200\n",
      "\u001b[1m31/31\u001b[0m \u001b[32m━━━━━━━━━━━━━━━━━━━━\u001b[0m\u001b[37m\u001b[0m \u001b[1m0s\u001b[0m 3ms/step - loss: 0.6924 - val_loss: 3556.5273\n",
      "Epoch 114/200\n",
      "\u001b[1m31/31\u001b[0m \u001b[32m━━━━━━━━━━━━━━━━━━━━\u001b[0m\u001b[37m\u001b[0m \u001b[1m0s\u001b[0m 3ms/step - loss: 0.6204 - val_loss: 3552.9541\n",
      "Epoch 115/200\n",
      "\u001b[1m31/31\u001b[0m \u001b[32m━━━━━━━━━━━━━━━━━━━━\u001b[0m\u001b[37m\u001b[0m \u001b[1m0s\u001b[0m 3ms/step - loss: 0.6502 - val_loss: 3549.0374\n",
      "Epoch 116/200\n",
      "\u001b[1m31/31\u001b[0m \u001b[32m━━━━━━━━━━━━━━━━━━━━\u001b[0m\u001b[37m\u001b[0m \u001b[1m0s\u001b[0m 3ms/step - loss: 0.6255 - val_loss: 3545.1069\n",
      "Epoch 117/200\n",
      "\u001b[1m31/31\u001b[0m \u001b[32m━━━━━━━━━━━━━━━━━━━━\u001b[0m\u001b[37m\u001b[0m \u001b[1m0s\u001b[0m 3ms/step - loss: 0.7417 - val_loss: 3541.7915\n",
      "Epoch 118/200\n",
      "\u001b[1m31/31\u001b[0m \u001b[32m━━━━━━━━━━━━━━━━━━━━\u001b[0m\u001b[37m\u001b[0m \u001b[1m0s\u001b[0m 3ms/step - loss: 0.6466 - val_loss: 3538.6555\n",
      "Epoch 119/200\n",
      "\u001b[1m31/31\u001b[0m \u001b[32m━━━━━━━━━━━━━━━━━━━━\u001b[0m\u001b[37m\u001b[0m \u001b[1m0s\u001b[0m 3ms/step - loss: 0.5299 - val_loss: 3534.2156\n",
      "Epoch 120/200\n",
      "\u001b[1m31/31\u001b[0m \u001b[32m━━━━━━━━━━━━━━━━━━━━\u001b[0m\u001b[37m\u001b[0m \u001b[1m0s\u001b[0m 3ms/step - loss: 0.6408 - val_loss: 3531.2361\n",
      "Epoch 121/200\n",
      "\u001b[1m31/31\u001b[0m \u001b[32m━━━━━━━━━━━━━━━━━━━━\u001b[0m\u001b[37m\u001b[0m \u001b[1m0s\u001b[0m 3ms/step - loss: 0.8368 - val_loss: 3527.9290\n",
      "Epoch 122/200\n",
      "\u001b[1m31/31\u001b[0m \u001b[32m━━━━━━━━━━━━━━━━━━━━\u001b[0m\u001b[37m\u001b[0m \u001b[1m0s\u001b[0m 3ms/step - loss: 0.5617 - val_loss: 3523.2007\n",
      "Epoch 123/200\n",
      "\u001b[1m31/31\u001b[0m \u001b[32m━━━━━━━━━━━━━━━━━━━━\u001b[0m\u001b[37m\u001b[0m \u001b[1m0s\u001b[0m 3ms/step - loss: 0.6450 - val_loss: 3521.8137\n",
      "Epoch 124/200\n",
      "\u001b[1m31/31\u001b[0m \u001b[32m━━━━━━━━━━━━━━━━━━━━\u001b[0m\u001b[37m\u001b[0m \u001b[1m0s\u001b[0m 3ms/step - loss: 0.6238 - val_loss: 3517.3796\n",
      "Epoch 125/200\n",
      "\u001b[1m31/31\u001b[0m \u001b[32m━━━━━━━━━━━━━━━━━━━━\u001b[0m\u001b[37m\u001b[0m \u001b[1m0s\u001b[0m 3ms/step - loss: 0.6191 - val_loss: 3513.4651\n",
      "Epoch 126/200\n",
      "\u001b[1m31/31\u001b[0m \u001b[32m━━━━━━━━━━━━━━━━━━━━\u001b[0m\u001b[37m\u001b[0m \u001b[1m0s\u001b[0m 3ms/step - loss: 0.6268 - val_loss: 3510.9456\n",
      "Epoch 127/200\n",
      "\u001b[1m31/31\u001b[0m \u001b[32m━━━━━━━━━━━━━━━━━━━━\u001b[0m\u001b[37m\u001b[0m \u001b[1m0s\u001b[0m 3ms/step - loss: 0.5227 - val_loss: 3507.1135\n",
      "Epoch 128/200\n",
      "\u001b[1m31/31\u001b[0m \u001b[32m━━━━━━━━━━━━━━━━━━━━\u001b[0m\u001b[37m\u001b[0m \u001b[1m0s\u001b[0m 3ms/step - loss: 0.7537 - val_loss: 3504.1572\n",
      "Epoch 129/200\n",
      "\u001b[1m31/31\u001b[0m \u001b[32m━━━━━━━━━━━━━━━━━━━━\u001b[0m\u001b[37m\u001b[0m \u001b[1m0s\u001b[0m 3ms/step - loss: 0.6709 - val_loss: 3501.3672\n",
      "Epoch 130/200\n",
      "\u001b[1m31/31\u001b[0m \u001b[32m━━━━━━━━━━━━━━━━━━━━\u001b[0m\u001b[37m\u001b[0m \u001b[1m0s\u001b[0m 4ms/step - loss: 0.5610 - val_loss: 3497.8103\n",
      "Epoch 131/200\n",
      "\u001b[1m31/31\u001b[0m \u001b[32m━━━━━━━━━━━━━━━━━━━━\u001b[0m\u001b[37m\u001b[0m \u001b[1m0s\u001b[0m 3ms/step - loss: 0.7828 - val_loss: 3496.9468\n",
      "Epoch 132/200\n",
      "\u001b[1m31/31\u001b[0m \u001b[32m━━━━━━━━━━━━━━━━━━━━\u001b[0m\u001b[37m\u001b[0m \u001b[1m0s\u001b[0m 3ms/step - loss: 0.5776 - val_loss: 3492.5991\n",
      "Epoch 133/200\n",
      "\u001b[1m31/31\u001b[0m \u001b[32m━━━━━━━━━━━━━━━━━━━━\u001b[0m\u001b[37m\u001b[0m \u001b[1m0s\u001b[0m 3ms/step - loss: 0.5356 - val_loss: 3490.8704\n",
      "Epoch 134/200\n",
      "\u001b[1m31/31\u001b[0m \u001b[32m━━━━━━━━━━━━━━━━━━━━\u001b[0m\u001b[37m\u001b[0m \u001b[1m0s\u001b[0m 3ms/step - loss: 0.7679 - val_loss: 3487.6587\n",
      "Epoch 135/200\n",
      "\u001b[1m31/31\u001b[0m \u001b[32m━━━━━━━━━━━━━━━━━━━━\u001b[0m\u001b[37m\u001b[0m \u001b[1m0s\u001b[0m 3ms/step - loss: 0.5547 - val_loss: 3484.0110\n",
      "Epoch 136/200\n",
      "\u001b[1m31/31\u001b[0m \u001b[32m━━━━━━━━━━━━━━━━━━━━\u001b[0m\u001b[37m\u001b[0m \u001b[1m0s\u001b[0m 3ms/step - loss: 0.6449 - val_loss: 3481.2563\n",
      "Epoch 137/200\n",
      "\u001b[1m31/31\u001b[0m \u001b[32m━━━━━━━━━━━━━━━━━━━━\u001b[0m\u001b[37m\u001b[0m \u001b[1m0s\u001b[0m 3ms/step - loss: 0.6102 - val_loss: 3479.2886\n",
      "Epoch 138/200\n",
      "\u001b[1m31/31\u001b[0m \u001b[32m━━━━━━━━━━━━━━━━━━━━\u001b[0m\u001b[37m\u001b[0m \u001b[1m0s\u001b[0m 3ms/step - loss: 0.5523 - val_loss: 3475.9363\n",
      "Epoch 139/200\n",
      "\u001b[1m31/31\u001b[0m \u001b[32m━━━━━━━━━━━━━━━━━━━━\u001b[0m\u001b[37m\u001b[0m \u001b[1m0s\u001b[0m 3ms/step - loss: 0.5457 - val_loss: 3473.4219\n",
      "Epoch 140/200\n",
      "\u001b[1m31/31\u001b[0m \u001b[32m━━━━━━━━━━━━━━━━━━━━\u001b[0m\u001b[37m\u001b[0m \u001b[1m0s\u001b[0m 3ms/step - loss: 0.5399 - val_loss: 3472.2834\n",
      "Epoch 141/200\n",
      "\u001b[1m31/31\u001b[0m \u001b[32m━━━━━━━━━━━━━━━━━━━━\u001b[0m\u001b[37m\u001b[0m \u001b[1m0s\u001b[0m 3ms/step - loss: 0.5596 - val_loss: 3470.5566\n",
      "Epoch 142/200\n",
      "\u001b[1m31/31\u001b[0m \u001b[32m━━━━━━━━━━━━━━━━━━━━\u001b[0m\u001b[37m\u001b[0m \u001b[1m0s\u001b[0m 3ms/step - loss: 0.5144 - val_loss: 3468.3884\n",
      "Epoch 143/200\n",
      "\u001b[1m31/31\u001b[0m \u001b[32m━━━━━━━━━━━━━━━━━━━━\u001b[0m\u001b[37m\u001b[0m \u001b[1m0s\u001b[0m 3ms/step - loss: 0.7792 - val_loss: 3464.6204\n",
      "Epoch 144/200\n",
      "\u001b[1m31/31\u001b[0m \u001b[32m━━━━━━━━━━━━━━━━━━━━\u001b[0m\u001b[37m\u001b[0m \u001b[1m0s\u001b[0m 3ms/step - loss: 0.5992 - val_loss: 3462.7778\n",
      "Epoch 145/200\n",
      "\u001b[1m31/31\u001b[0m \u001b[32m━━━━━━━━━━━━━━━━━━━━\u001b[0m\u001b[37m\u001b[0m \u001b[1m0s\u001b[0m 3ms/step - loss: 0.5312 - val_loss: 3460.8213\n",
      "Epoch 146/200\n",
      "\u001b[1m31/31\u001b[0m \u001b[32m━━━━━━━━━━━━━━━━━━━━\u001b[0m\u001b[37m\u001b[0m \u001b[1m0s\u001b[0m 3ms/step - loss: 0.5919 - val_loss: 3458.4048\n",
      "Epoch 147/200\n",
      "\u001b[1m31/31\u001b[0m \u001b[32m━━━━━━━━━━━━━━━━━━━━\u001b[0m\u001b[37m\u001b[0m \u001b[1m0s\u001b[0m 3ms/step - loss: 0.6945 - val_loss: 3456.0261\n",
      "Epoch 148/200\n",
      "\u001b[1m31/31\u001b[0m \u001b[32m━━━━━━━━━━━━━━━━━━━━\u001b[0m\u001b[37m\u001b[0m \u001b[1m0s\u001b[0m 3ms/step - loss: 0.5593 - val_loss: 3453.7227\n",
      "Epoch 149/200\n",
      "\u001b[1m31/31\u001b[0m \u001b[32m━━━━━━━━━━━━━━━━━━━━\u001b[0m\u001b[37m\u001b[0m \u001b[1m0s\u001b[0m 3ms/step - loss: 0.5691 - val_loss: 3451.9043\n",
      "Epoch 150/200\n",
      "\u001b[1m31/31\u001b[0m \u001b[32m━━━━━━━━━━━━━━━━━━━━\u001b[0m\u001b[37m\u001b[0m \u001b[1m0s\u001b[0m 3ms/step - loss: 0.5233 - val_loss: 3449.4480\n",
      "Epoch 151/200\n",
      "\u001b[1m31/31\u001b[0m \u001b[32m━━━━━━━━━━━━━━━━━━━━\u001b[0m\u001b[37m\u001b[0m \u001b[1m0s\u001b[0m 3ms/step - loss: 0.5939 - val_loss: 3446.4956\n",
      "Epoch 152/200\n",
      "\u001b[1m31/31\u001b[0m \u001b[32m━━━━━━━━━━━━━━━━━━━━\u001b[0m\u001b[37m\u001b[0m \u001b[1m0s\u001b[0m 3ms/step - loss: 0.7419 - val_loss: 3443.9192\n",
      "Epoch 153/200\n",
      "\u001b[1m31/31\u001b[0m \u001b[32m━━━━━━━━━━━━━━━━━━━━\u001b[0m\u001b[37m\u001b[0m \u001b[1m0s\u001b[0m 3ms/step - loss: 0.5064 - val_loss: 3441.8015\n",
      "Epoch 154/200\n",
      "\u001b[1m31/31\u001b[0m \u001b[32m━━━━━━━━━━━━━━━━━━━━\u001b[0m\u001b[37m\u001b[0m \u001b[1m0s\u001b[0m 3ms/step - loss: 0.7043 - val_loss: 3440.3879\n",
      "Epoch 155/200\n",
      "\u001b[1m31/31\u001b[0m \u001b[32m━━━━━━━━━━━━━━━━━━━━\u001b[0m\u001b[37m\u001b[0m \u001b[1m0s\u001b[0m 3ms/step - loss: 0.5436 - val_loss: 3438.0464\n",
      "Epoch 156/200\n",
      "\u001b[1m31/31\u001b[0m \u001b[32m━━━━━━━━━━━━━━━━━━━━\u001b[0m\u001b[37m\u001b[0m \u001b[1m0s\u001b[0m 3ms/step - loss: 0.5453 - val_loss: 3436.7048\n",
      "Epoch 157/200\n",
      "\u001b[1m31/31\u001b[0m \u001b[32m━━━━━━━━━━━━━━━━━━━━\u001b[0m\u001b[37m\u001b[0m \u001b[1m0s\u001b[0m 4ms/step - loss: 0.7046 - val_loss: 3434.9893\n",
      "Epoch 158/200\n",
      "\u001b[1m31/31\u001b[0m \u001b[32m━━━━━━━━━━━━━━━━━━━━\u001b[0m\u001b[37m\u001b[0m \u001b[1m0s\u001b[0m 3ms/step - loss: 0.5081 - val_loss: 3432.4617\n",
      "Epoch 159/200\n",
      "\u001b[1m31/31\u001b[0m \u001b[32m━━━━━━━━━━━━━━━━━━━━\u001b[0m\u001b[37m\u001b[0m \u001b[1m0s\u001b[0m 3ms/step - loss: 0.5404 - val_loss: 3431.6687\n",
      "Epoch 160/200\n",
      "\u001b[1m31/31\u001b[0m \u001b[32m━━━━━━━━━━━━━━━━━━━━\u001b[0m\u001b[37m\u001b[0m \u001b[1m0s\u001b[0m 3ms/step - loss: 0.5929 - val_loss: 3428.1184\n",
      "Epoch 161/200\n",
      "\u001b[1m31/31\u001b[0m \u001b[32m━━━━━━━━━━━━━━━━━━━━\u001b[0m\u001b[37m\u001b[0m \u001b[1m0s\u001b[0m 3ms/step - loss: 0.5562 - val_loss: 3427.4956\n",
      "Epoch 162/200\n",
      "\u001b[1m31/31\u001b[0m \u001b[32m━━━━━━━━━━━━━━━━━━━━\u001b[0m\u001b[37m\u001b[0m \u001b[1m0s\u001b[0m 3ms/step - loss: 0.5385 - val_loss: 3426.1394\n",
      "Epoch 163/200\n",
      "\u001b[1m31/31\u001b[0m \u001b[32m━━━━━━━━━━━━━━━━━━━━\u001b[0m\u001b[37m\u001b[0m \u001b[1m0s\u001b[0m 3ms/step - loss: 0.6424 - val_loss: 3423.1260\n",
      "Epoch 164/200\n",
      "\u001b[1m31/31\u001b[0m \u001b[32m━━━━━━━━━━━━━━━━━━━━\u001b[0m\u001b[37m\u001b[0m \u001b[1m0s\u001b[0m 3ms/step - loss: 0.5194 - val_loss: 3422.0496\n",
      "Epoch 165/200\n",
      "\u001b[1m31/31\u001b[0m \u001b[32m━━━━━━━━━━━━━━━━━━━━\u001b[0m\u001b[37m\u001b[0m \u001b[1m0s\u001b[0m 3ms/step - loss: 0.4857 - val_loss: 3421.4443\n",
      "Epoch 166/200\n",
      "\u001b[1m31/31\u001b[0m \u001b[32m━━━━━━━━━━━━━━━━━━━━\u001b[0m\u001b[37m\u001b[0m \u001b[1m0s\u001b[0m 3ms/step - loss: 0.5216 - val_loss: 3417.5510\n",
      "Epoch 167/200\n",
      "\u001b[1m31/31\u001b[0m \u001b[32m━━━━━━━━━━━━━━━━━━━━\u001b[0m\u001b[37m\u001b[0m \u001b[1m0s\u001b[0m 3ms/step - loss: 0.6904 - val_loss: 3416.2839\n",
      "Epoch 168/200\n",
      "\u001b[1m31/31\u001b[0m \u001b[32m━━━━━━━━━━━━━━━━━━━━\u001b[0m\u001b[37m\u001b[0m \u001b[1m0s\u001b[0m 3ms/step - loss: 0.5518 - val_loss: 3413.4290\n",
      "Epoch 169/200\n",
      "\u001b[1m31/31\u001b[0m \u001b[32m━━━━━━━━━━━━━━━━━━━━\u001b[0m\u001b[37m\u001b[0m \u001b[1m0s\u001b[0m 3ms/step - loss: 0.5253 - val_loss: 3411.2639\n",
      "Epoch 170/200\n",
      "\u001b[1m31/31\u001b[0m \u001b[32m━━━━━━━━━━━━━━━━━━━━\u001b[0m\u001b[37m\u001b[0m \u001b[1m0s\u001b[0m 3ms/step - loss: 0.6266 - val_loss: 3412.3464\n",
      "Epoch 171/200\n",
      "\u001b[1m31/31\u001b[0m \u001b[32m━━━━━━━━━━━━━━━━━━━━\u001b[0m\u001b[37m\u001b[0m \u001b[1m0s\u001b[0m 3ms/step - loss: 0.6911 - val_loss: 3410.5732\n",
      "Epoch 172/200\n",
      "\u001b[1m31/31\u001b[0m \u001b[32m━━━━━━━━━━━━━━━━━━━━\u001b[0m\u001b[37m\u001b[0m \u001b[1m0s\u001b[0m 3ms/step - loss: 0.6900 - val_loss: 3408.0051\n",
      "Epoch 173/200\n",
      "\u001b[1m31/31\u001b[0m \u001b[32m━━━━━━━━━━━━━━━━━━━━\u001b[0m\u001b[37m\u001b[0m \u001b[1m0s\u001b[0m 3ms/step - loss: 0.5557 - val_loss: 3407.0762\n",
      "Epoch 174/200\n",
      "\u001b[1m31/31\u001b[0m \u001b[32m━━━━━━━━━━━━━━━━━━━━\u001b[0m\u001b[37m\u001b[0m \u001b[1m0s\u001b[0m 3ms/step - loss: 0.6049 - val_loss: 3406.2434\n",
      "Epoch 175/200\n",
      "\u001b[1m31/31\u001b[0m \u001b[32m━━━━━━━━━━━━━━━━━━━━\u001b[0m\u001b[37m\u001b[0m \u001b[1m0s\u001b[0m 3ms/step - loss: 0.5162 - val_loss: 3404.2737\n",
      "Epoch 176/200\n",
      "\u001b[1m31/31\u001b[0m \u001b[32m━━━━━━━━━━━━━━━━━━━━\u001b[0m\u001b[37m\u001b[0m \u001b[1m0s\u001b[0m 3ms/step - loss: 0.6030 - val_loss: 3401.2922\n",
      "Epoch 177/200\n",
      "\u001b[1m31/31\u001b[0m \u001b[32m━━━━━━━━━━━━━━━━━━━━\u001b[0m\u001b[37m\u001b[0m \u001b[1m0s\u001b[0m 3ms/step - loss: 0.5021 - val_loss: 3399.5112\n",
      "Epoch 178/200\n",
      "\u001b[1m31/31\u001b[0m \u001b[32m━━━━━━━━━━━━━━━━━━━━\u001b[0m\u001b[37m\u001b[0m \u001b[1m0s\u001b[0m 3ms/step - loss: 0.7888 - val_loss: 3397.1399\n",
      "Epoch 179/200\n",
      "\u001b[1m31/31\u001b[0m \u001b[32m━━━━━━━━━━━━━━━━━━━━\u001b[0m\u001b[37m\u001b[0m \u001b[1m0s\u001b[0m 3ms/step - loss: 0.5674 - val_loss: 3396.8218\n",
      "Epoch 180/200\n",
      "\u001b[1m31/31\u001b[0m \u001b[32m━━━━━━━━━━━━━━━━━━━━\u001b[0m\u001b[37m\u001b[0m \u001b[1m0s\u001b[0m 3ms/step - loss: 0.5473 - val_loss: 3395.6270\n",
      "Epoch 181/200\n",
      "\u001b[1m31/31\u001b[0m \u001b[32m━━━━━━━━━━━━━━━━━━━━\u001b[0m\u001b[37m\u001b[0m \u001b[1m0s\u001b[0m 4ms/step - loss: 0.5202 - val_loss: 3393.3447\n",
      "Epoch 182/200\n",
      "\u001b[1m31/31\u001b[0m \u001b[32m━━━━━━━━━━━━━━━━━━━━\u001b[0m\u001b[37m\u001b[0m \u001b[1m0s\u001b[0m 5ms/step - loss: 0.7611 - val_loss: 3393.1968\n",
      "Epoch 183/200\n",
      "\u001b[1m31/31\u001b[0m \u001b[32m━━━━━━━━━━━━━━━━━━━━\u001b[0m\u001b[37m\u001b[0m \u001b[1m0s\u001b[0m 3ms/step - loss: 0.5222 - val_loss: 3391.0471\n",
      "Epoch 184/200\n",
      "\u001b[1m31/31\u001b[0m \u001b[32m━━━━━━━━━━━━━━━━━━━━\u001b[0m\u001b[37m\u001b[0m \u001b[1m0s\u001b[0m 3ms/step - loss: 0.5629 - val_loss: 3388.7158\n",
      "Epoch 185/200\n",
      "\u001b[1m31/31\u001b[0m \u001b[32m━━━━━━━━━━━━━━━━━━━━\u001b[0m\u001b[37m\u001b[0m \u001b[1m0s\u001b[0m 4ms/step - loss: 0.7229 - val_loss: 3391.2527\n",
      "Epoch 186/200\n",
      "\u001b[1m31/31\u001b[0m \u001b[32m━━━━━━━━━━━━━━━━━━━━\u001b[0m\u001b[37m\u001b[0m \u001b[1m0s\u001b[0m 3ms/step - loss: 0.5952 - val_loss: 3390.2141\n",
      "Epoch 187/200\n",
      "\u001b[1m31/31\u001b[0m \u001b[32m━━━━━━━━━━━━━━━━━━━━\u001b[0m\u001b[37m\u001b[0m \u001b[1m0s\u001b[0m 3ms/step - loss: 0.6770 - val_loss: 3387.1301\n",
      "Epoch 188/200\n",
      "\u001b[1m31/31\u001b[0m \u001b[32m━━━━━━━━━━━━━━━━━━━━\u001b[0m\u001b[37m\u001b[0m \u001b[1m0s\u001b[0m 3ms/step - loss: 0.4684 - val_loss: 3386.3057\n",
      "Epoch 189/200\n",
      "\u001b[1m31/31\u001b[0m \u001b[32m━━━━━━━━━━━━━━━━━━━━\u001b[0m\u001b[37m\u001b[0m \u001b[1m0s\u001b[0m 3ms/step - loss: 0.5792 - val_loss: 3386.0730\n",
      "Epoch 190/200\n",
      "\u001b[1m31/31\u001b[0m \u001b[32m━━━━━━━━━━━━━━━━━━━━\u001b[0m\u001b[37m\u001b[0m \u001b[1m0s\u001b[0m 3ms/step - loss: 0.6181 - val_loss: 3382.2297\n",
      "Epoch 191/200\n",
      "\u001b[1m31/31\u001b[0m \u001b[32m━━━━━━━━━━━━━━━━━━━━\u001b[0m\u001b[37m\u001b[0m \u001b[1m0s\u001b[0m 3ms/step - loss: 0.5881 - val_loss: 3382.7366\n",
      "Epoch 192/200\n",
      "\u001b[1m31/31\u001b[0m \u001b[32m━━━━━━━━━━━━━━━━━━━━\u001b[0m\u001b[37m\u001b[0m \u001b[1m0s\u001b[0m 3ms/step - loss: 0.5517 - val_loss: 3380.8062\n",
      "Epoch 193/200\n",
      "\u001b[1m31/31\u001b[0m \u001b[32m━━━━━━━━━━━━━━━━━━━━\u001b[0m\u001b[37m\u001b[0m \u001b[1m0s\u001b[0m 3ms/step - loss: 0.6964 - val_loss: 3378.6492\n",
      "Epoch 194/200\n",
      "\u001b[1m31/31\u001b[0m \u001b[32m━━━━━━━━━━━━━━━━━━━━\u001b[0m\u001b[37m\u001b[0m \u001b[1m0s\u001b[0m 3ms/step - loss: 0.5820 - val_loss: 3378.0913\n",
      "Epoch 195/200\n",
      "\u001b[1m31/31\u001b[0m \u001b[32m━━━━━━━━━━━━━━━━━━━━\u001b[0m\u001b[37m\u001b[0m \u001b[1m0s\u001b[0m 3ms/step - loss: 0.5825 - val_loss: 3376.6909\n",
      "Epoch 196/200\n",
      "\u001b[1m31/31\u001b[0m \u001b[32m━━━━━━━━━━━━━━━━━━━━\u001b[0m\u001b[37m\u001b[0m \u001b[1m0s\u001b[0m 3ms/step - loss: 0.5672 - val_loss: 3375.2295\n",
      "Epoch 197/200\n",
      "\u001b[1m31/31\u001b[0m \u001b[32m━━━━━━━━━━━━━━━━━━━━\u001b[0m\u001b[37m\u001b[0m \u001b[1m0s\u001b[0m 3ms/step - loss: 0.5347 - val_loss: 3373.0305\n",
      "Epoch 198/200\n",
      "\u001b[1m31/31\u001b[0m \u001b[32m━━━━━━━━━━━━━━━━━━━━\u001b[0m\u001b[37m\u001b[0m \u001b[1m0s\u001b[0m 3ms/step - loss: 0.5987 - val_loss: 3372.4619\n",
      "Epoch 199/200\n",
      "\u001b[1m31/31\u001b[0m \u001b[32m━━━━━━━━━━━━━━━━━━━━\u001b[0m\u001b[37m\u001b[0m \u001b[1m0s\u001b[0m 3ms/step - loss: 0.6247 - val_loss: 3372.8591\n",
      "Epoch 200/200\n",
      "\u001b[1m31/31\u001b[0m \u001b[32m━━━━━━━━━━━━━━━━━━━━\u001b[0m\u001b[37m\u001b[0m \u001b[1m0s\u001b[0m 3ms/step - loss: 0.5421 - val_loss: 3372.5046\n"
     ]
    },
    {
     "data": {
      "text/plain": [
       "<keras.src.callbacks.history.History at 0x30bbfdbe0>"
      ]
     },
     "execution_count": 61,
     "metadata": {},
     "output_type": "execute_result"
    }
   ],
   "source": [
    "# Define and Train LSTM\n",
    "\n",
    "from tensorflow.keras.models import Sequential\n",
    "from tensorflow.keras.layers import LSTM, Dense\n",
    "\n",
    "# Reshape input data for LSTM\n",
    "X = X.reshape((X.shape[0], X.shape[1], len(features)))\n",
    "\n",
    "# Define LSTM model\n",
    "model = Sequential([\n",
    "    LSTM(50, return_sequences=True, input_shape=(sequence_length, len(features))),\n",
    "    LSTM(50),\n",
    "    Dense(1)\n",
    "])\n",
    "model.compile(optimizer='adam', loss='mse')\n",
    "\n",
    "# Train the model\n",
    "model.fit(X, y, epochs=200, batch_size=32, validation_split=0.2)\n"
   ]
  },
  {
   "cell_type": "code",
   "execution_count": 67,
   "metadata": {},
   "outputs": [
    {
     "data": {
      "text/plain": [
       "(1215, 5, 1)"
      ]
     },
     "execution_count": 67,
     "metadata": {},
     "output_type": "execute_result"
    }
   ],
   "source": [
    "X.shape"
   ]
  }
 ],
 "metadata": {
  "kernelspec": {
   "display_name": "venv",
   "language": "python",
   "name": "python3"
  },
  "language_info": {
   "codemirror_mode": {
    "name": "ipython",
    "version": 3
   },
   "file_extension": ".py",
   "mimetype": "text/x-python",
   "name": "python",
   "nbconvert_exporter": "python",
   "pygments_lexer": "ipython3",
   "version": "3.9.6"
  }
 },
 "nbformat": 4,
 "nbformat_minor": 2
}
